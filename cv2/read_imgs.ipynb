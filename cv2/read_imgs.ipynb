{
 "cells": [
  {
   "cell_type": "markdown",
   "metadata": {},
   "source": [
    "# Reading all images"
   ]
  },
  {
   "cell_type": "code",
   "execution_count": 11,
   "metadata": {},
   "outputs": [],
   "source": [
    "import cv2\n",
    "import os\n",
    "import glob\n",
    "img_dir = r\"J:\\jPython\\backUp\\image\" # Enter Directory of all images, OPTIONAL \n",
    "data_path = os.path.join(img_dir,'*g')\n",
    "files = glob.glob(data_path)\n",
    "for first in files:\n",
    "    img = cv2.imread(first)\n",
    "    cv2.imshow(\"JB\", img) # title name, read image\n",
    "    cv2.waitKey(0) # waits until a key is pressed\n",
    "    cv2.destroyAllWindows() # destroys the window showing image"
   ]
  },
  {
   "cell_type": "code",
   "execution_count": null,
   "metadata": {},
   "outputs": [],
   "source": []
  },
  {
   "cell_type": "markdown",
   "metadata": {},
   "source": [
    "# Image Processing"
   ]
  },
  {
   "cell_type": "code",
   "execution_count": 1,
   "metadata": {},
   "outputs": [],
   "source": [
    "import numpy as np\n",
    "import cv2\n",
    "image = cv2.imread('jb.png', cv2.IMREAD_UNCHANGED)\n",
    "position = (250,400)\n",
    "cv2.putText(image, \"Official Tech\", position, cv2.FONT_ITALIC ,1 , (0, 0, 153, 255), 5) # np array for text written, text, position, font, size, color, stroke width\n",
    "n = cv2.imwrite(\"new_jb.png\", image)\n",
    "\n",
    "new_text_img = cv2.imread('new_jb.png', cv2.IMREAD_UNCHANGED)\n",
    "cv2.imshow(\"New Text Image\", new_text_img)\n",
    "cv2.waitKey(0)\n",
    "cv2.destroyAllWindows()"
   ]
  },
  {
   "cell_type": "code",
   "execution_count": null,
   "metadata": {},
   "outputs": [],
   "source": []
  },
  {
   "cell_type": "code",
   "execution_count": 2,
   "metadata": {},
   "outputs": [],
   "source": [
    "grey_img = cv2.imread('teddy.png', cv2.IMREAD_GRAYSCALE)\n",
    "thresh = 128 #define a threshold, 128 is the middle of black and white in grey scale\n",
    "binary_img = cv2.threshold(grey_img, thresh, 255, cv2.THRESH_BINARY)[1]# Threshold the image\n",
    "cv2.imwrite(\"grey_teddy.png\", binary_img)\n",
    "\n",
    "grey_teddy = cv2.imread('grey_teddy.png', cv2.IMREAD_UNCHANGED)\n",
    "cv2.imshow(\"New Grey Teddy\", grey_teddy)\n",
    "cv2.waitKey(0)\n",
    "cv2.destroyAllWindows()"
   ]
  },
  {
   "cell_type": "code",
   "execution_count": null,
   "metadata": {},
   "outputs": [],
   "source": []
  }
 ],
 "metadata": {
  "kernelspec": {
   "display_name": "Python 3",
   "language": "python",
   "name": "python3"
  },
  "language_info": {
   "codemirror_mode": {
    "name": "ipython",
    "version": 3
   },
   "file_extension": ".py",
   "mimetype": "text/x-python",
   "name": "python",
   "nbconvert_exporter": "python",
   "pygments_lexer": "ipython3",
   "version": "3.6.0"
  }
 },
 "nbformat": 4,
 "nbformat_minor": 4
}
