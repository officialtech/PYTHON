{
 "cells": [
  {
   "cell_type": "code",
   "execution_count": 9,
   "metadata": {},
   "outputs": [
    {
     "name": "stdout",
     "output_type": "stream",
     "text": [
      "Enter your name: a\n",
      "Enter your age: 1\n",
      "====================\n",
      "Enter your name: b\n",
      "Enter your age: 2\n",
      "====================\n",
      "Enter your name: c\n",
      "Enter your age: 3\n",
      "====================\n",
      "Enter your name: d\n",
      "Enter your age: 4\n",
      "====================\n",
      "Enter your name: e\n",
      "Enter your age: 5\n",
      "====================\n",
      "Enter your name: f\n",
      "Enter your age: 6\n",
      "====================\n",
      "Enter your name: g\n",
      "Enter your age: 7\n",
      "====================\n",
      "Enter your name: h\n",
      "Enter your age: 8\n",
      "====================\n",
      "Enter your name: i\n",
      "Enter your age: 9\n",
      "====================\n",
      "Enter your name: j\n",
      "Enter your age: 10\n",
      "====================\n",
      "{'a': 1, 'b': 2, 'c': 3, 'd': 4, 'e': 5, 'f': 6, 'g': 7, 'h': 8, 'i': 9, 'j': 10}\n"
     ]
    }
   ],
   "source": [
    "database = dict()\n",
    "j = 0\n",
    "\n",
    "while j < 10:\n",
    "    name = input(\"Enter your name: \").capitalize()\n",
    "    age = int(input(\"Enter your age: \"))\n",
    "    print(10 * \"==\")\n",
    "    j+=1\n",
    "    database[name] = age\n",
    "\n",
    "\n",
    "print(database)"
   ]
  },
  {
   "cell_type": "code",
   "execution_count": 11,
   "metadata": {},
   "outputs": [
    {
     "name": "stdout",
     "output_type": "stream",
     "text": [
      "['a', 'b', 'c', 'd', 'e', 'f', 'g', 'h', 'i', 'j']\n"
     ]
    }
   ],
   "source": [
    "sort_by_keys = sorted(database.keys())\n",
    "print(\"Keys: \", sort_by_keys)"
   ]
  },
  {
   "cell_type": "code",
   "execution_count": 21,
   "metadata": {},
   "outputs": [
    {
     "name": "stdout",
     "output_type": "stream",
     "text": [
      "[1, 2, 4, 5, 6, 7, 8, 9, 10, 100]\n"
     ]
    }
   ],
   "source": [
    "sort_by_values = sorted(database.values())\n",
    "print(\"Values: \", sort_by_values)"
   ]
  },
  {
   "cell_type": "code",
   "execution_count": 20,
   "metadata": {},
   "outputs": [],
   "source": [
    "#after assigning c = 100 above sorted values\n",
    "database['c'] = 100"
   ]
  },
  {
   "cell_type": "code",
   "execution_count": null,
   "metadata": {},
   "outputs": [],
   "source": []
  },
  {
   "cell_type": "code",
   "execution_count": 59,
   "metadata": {},
   "outputs": [],
   "source": [
    "def search_in_db(name):\n",
    "    '''\n",
    "        You can search any name in dictonary, just call search_in_db function and pass the\n",
    "        name what you want to search as a parameter\n",
    "    '''\n",
    "    for key,value in database.items():\n",
    "        if str(name).capitalize() in key:\n",
    "            print(\"Name :\",key, \"&\", \"Age :\", value)\n",
    "            break\n",
    "    else:\n",
    "        print(\"Person not Found!\")"
   ]
  },
  {
   "cell_type": "code",
   "execution_count": 60,
   "metadata": {},
   "outputs": [
    {
     "name": "stdout",
     "output_type": "stream",
     "text": [
      "Person not Found!\n"
     ]
    }
   ],
   "source": [
    "search_in_db(2)"
   ]
  },
  {
   "cell_type": "code",
   "execution_count": 62,
   "metadata": {},
   "outputs": [
    {
     "name": "stdout",
     "output_type": "stream",
     "text": [
      "Person not Found!\n"
     ]
    }
   ],
   "source": [
    "search_in_db('J')"
   ]
  },
  {
   "cell_type": "code",
   "execution_count": 58,
   "metadata": {},
   "outputs": [
    {
     "name": "stdout",
     "output_type": "stream",
     "text": [
      "Name : d & Age : 4\n"
     ]
    }
   ],
   "source": [
    "search_in_db('d')"
   ]
  },
  {
   "cell_type": "code",
   "execution_count": null,
   "metadata": {},
   "outputs": [],
   "source": [
    "search_in_db(\"r\")"
   ]
  }
 ],
 "metadata": {
  "kernelspec": {
   "display_name": "Python 3",
   "language": "python",
   "name": "python3"
  },
  "language_info": {
   "codemirror_mode": {
    "name": "ipython",
    "version": 3
   },
   "file_extension": ".py",
   "mimetype": "text/x-python",
   "name": "python",
   "nbconvert_exporter": "python",
   "pygments_lexer": "ipython3",
   "version": "3.6.0"
  }
 },
 "nbformat": 4,
 "nbformat_minor": 4
}
