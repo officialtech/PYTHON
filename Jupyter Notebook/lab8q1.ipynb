{
 "cells": [
  {
   "cell_type": "markdown",
   "metadata": {},
   "source": [
    "# Ticket Machine"
   ]
  },
  {
   "cell_type": "code",
   "execution_count": 37,
   "metadata": {},
   "outputs": [],
   "source": [
    "class ticketMachine:\n",
    "    \"\"\"ticketMachine class, which models a ticket machine that issues flat-fare tickets\"\"\"\n",
    "    \n",
    "    # class attribute \n",
    "    balance = 0\n",
    "    \n",
    "    # instance attribute\n",
    "    def __init__(self):\n",
    "        \n",
    "        self.price_of_ticket = 200\n",
    "        \n",
    "        \n",
    "    def insertMoney(self):\n",
    "        \n",
    "        self.amount = int(input(\"Enter Amount Want to Deposit: \"))\n",
    "        if self.amount <= 0:\n",
    "            print(\"Please Enter a valid amount.\")\n",
    "        \n",
    "        self.balance += self.amount\n",
    "        print(\"\\nAmount deposited successfully!\")\n",
    "        \n",
    "        \n",
    "    def getPrice(self):\n",
    "        \n",
    "        print(\"The Price of one ticket is ${}\".format(self.price_of_ticket) + \".\")\n",
    "        return self.price_of_ticket\n",
    "        \n",
    "        \n",
    "    def getBalance(self):\n",
    "        \n",
    "        print(\"Your Balance is ${}\".format(self.balance) + \".\")\n",
    "        return self.balance\n",
    "    \n",
    "    \n",
    "    def printTicket(self):\n",
    "        \n",
    "        if self.balance >= self.price_of_ticket:\n",
    "            print(\"You've successfully printed your ticket.\")\n",
    "            self.balance -= self.price_of_ticket\n",
    "        \n",
    "        elif self.balance < self.price_of_ticket:\n",
    "            print(\"Insufficient funds to print the ticket, Please insert money.\")\n",
    "        \n",
    "        else:\n",
    "            print(\"Something went wrong!\")\n",
    "        \n"
   ]
  },
  {
   "cell_type": "code",
   "execution_count": 38,
   "metadata": {},
   "outputs": [],
   "source": [
    "object_of_class = ticketMachine()"
   ]
  },
  {
   "cell_type": "code",
   "execution_count": 39,
   "metadata": {},
   "outputs": [
    {
     "name": "stdout",
     "output_type": "stream",
     "text": [
      "Enter Amount Want to Deposit: 400\n",
      "\n",
      "Amount deposited successfully!\n"
     ]
    }
   ],
   "source": [
    "object_of_class.insertMoney()"
   ]
  },
  {
   "cell_type": "code",
   "execution_count": 40,
   "metadata": {},
   "outputs": [
    {
     "name": "stdout",
     "output_type": "stream",
     "text": [
      "Your Balance is $400.\n"
     ]
    },
    {
     "data": {
      "text/plain": [
       "400"
      ]
     },
     "execution_count": 40,
     "metadata": {},
     "output_type": "execute_result"
    }
   ],
   "source": [
    "object_of_class.getBalance()"
   ]
  },
  {
   "cell_type": "markdown",
   "metadata": {},
   "source": [
    "# If you not want to return balance or that 400 just commet the return line in getBalance() method"
   ]
  },
  {
   "cell_type": "code",
   "execution_count": 41,
   "metadata": {},
   "outputs": [
    {
     "name": "stdout",
     "output_type": "stream",
     "text": [
      "You've successfully printed your ticket.\n"
     ]
    }
   ],
   "source": [
    "object_of_class.printTicket()"
   ]
  },
  {
   "cell_type": "markdown",
   "metadata": {},
   "source": [
    "### Now again going to check the balance"
   ]
  },
  {
   "cell_type": "code",
   "execution_count": 42,
   "metadata": {},
   "outputs": [
    {
     "name": "stdout",
     "output_type": "stream",
     "text": [
      "Your Balance is $200.\n"
     ]
    },
    {
     "data": {
      "text/plain": [
       "200"
      ]
     },
     "execution_count": 42,
     "metadata": {},
     "output_type": "execute_result"
    }
   ],
   "source": [
    "object_of_class.getBalance()"
   ]
  },
  {
   "cell_type": "code",
   "execution_count": null,
   "metadata": {},
   "outputs": [],
   "source": []
  }
 ],
 "metadata": {
  "kernelspec": {
   "display_name": "Python 3",
   "language": "python",
   "name": "python3"
  },
  "language_info": {
   "codemirror_mode": {
    "name": "ipython",
    "version": 3
   },
   "file_extension": ".py",
   "mimetype": "text/x-python",
   "name": "python",
   "nbconvert_exporter": "python",
   "pygments_lexer": "ipython3",
   "version": "3.6.0"
  }
 },
 "nbformat": 4,
 "nbformat_minor": 4
}
