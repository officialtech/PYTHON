{
 "cells": [
  {
   "cell_type": "markdown",
   "metadata": {},
   "source": [
    "# Understanding Inheritance in Python\n",
    "<img style=\"float: left \"src=\"lab9q1.png\">"
   ]
  },
  {
   "cell_type": "code",
   "execution_count": 71,
   "metadata": {},
   "outputs": [
    {
     "name": "stdout",
     "output_type": "stream",
     "text": [
      "Person\n",
      "Kevin is 45\n"
     ]
    }
   ],
   "source": [
    "class Person:\n",
    "    print(\"Person\")\n",
    "    def __init__(self, name, age):\n",
    "        \n",
    "        self.name = name\n",
    "        self.age = age\n",
    "\n",
    "        print(self.name, \"is\", self.age)\n",
    "    \n",
    "    def birthday(self):\n",
    "        print(\"Happy birthday you were\", self.age)\n",
    "\n",
    "# Sample Input\n",
    "p = Person('Kevin', 45)"
   ]
  },
  {
   "cell_type": "code",
   "execution_count": 73,
   "metadata": {},
   "outputs": [
    {
     "name": "stdout",
     "output_type": "stream",
     "text": [
      "Employee\n",
      "Den is 21\n",
      "Happy birthday you were 21\n",
      "you are now 22\n",
      "Your Pay: 400.0\n"
     ]
    }
   ],
   "source": [
    "class Employee(Person):\n",
    "    \n",
    "    pay = 400\n",
    "    print(\"Employee\")\n",
    "    \n",
    "    def __init__(self, name, age, idno):\n",
    "        Person.__init__(self, name, age)\n",
    "        \n",
    "        self.birthday()\n",
    "        \n",
    "        print(\"you are now\", self.age + 1)\n",
    "        print(\"Your Pay:\", float(self.pay))\n",
    "        \n",
    "    def calculatePay(self, working_hour):\n",
    "        base_pay = 7.5\n",
    "        extra = 2.50\n",
    "        \n",
    "        if self.age < 21:\n",
    "            return \"Your Pay:\", self.base_pay * self.working_hour\n",
    "        \n",
    "        elif self.age > 21:\n",
    "            return \"Your Pay:\", (self.base_pay * self.working_hour) + extra\n",
    "        \n",
    "        else:\n",
    "            return \"Please enter valid age.\"\n",
    "\n",
    "# Sample Input\n",
    "e = Employee('Den', 21, 7468)    "
   ]
  },
  {
   "cell_type": "code",
   "execution_count": 75,
   "metadata": {},
   "outputs": [
    {
     "name": "stdout",
     "output_type": "stream",
     "text": [
      "SalesPerson\n",
      "Phoebe is 21\n",
      "Happy birthday you were 21\n",
      "you are now 22\n",
      "Your Pay: 400.0\n",
      "Bonus: 15000.0\n"
     ]
    }
   ],
   "source": [
    "class SalesPerson(Employee):\n",
    "    print(\"SalesPerson\")\n",
    "    \n",
    "    def __init__(self, name, age, idno, region, total_sale):\n",
    "        Employee.__init__(self, name, age, idno)        \n",
    "        print(\"Bonus:\",total_sale * 0.5)\n",
    "    def bonus(self):\n",
    "        return \"Bonus:\",total_sale * 0.5\n",
    "    \n",
    "s = SalesPerson('Phoebe',21, 4712, 'AUS', 30000.0)"
   ]
  },
  {
   "cell_type": "code",
   "execution_count": null,
   "metadata": {},
   "outputs": [],
   "source": []
  }
 ],
 "metadata": {
  "kernelspec": {
   "display_name": "Python 3",
   "language": "python",
   "name": "python3"
  },
  "language_info": {
   "codemirror_mode": {
    "name": "ipython",
    "version": 3
   },
   "file_extension": ".py",
   "mimetype": "text/x-python",
   "name": "python",
   "nbconvert_exporter": "python",
   "pygments_lexer": "ipython3",
   "version": "3.6.0"
  }
 },
 "nbformat": 4,
 "nbformat_minor": 4
}
