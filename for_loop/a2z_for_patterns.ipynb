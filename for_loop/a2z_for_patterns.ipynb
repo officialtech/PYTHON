{
 "cells": [
  {
   "cell_type": "markdown",
   "metadata": {},
   "source": [
    "# fibonacci series"
   ]
  },
  {
   "cell_type": "code",
   "execution_count": 30,
   "metadata": {},
   "outputs": [
    {
     "name": "stdout",
     "output_type": "stream",
     "text": [
      "0\n",
      "1\n",
      "1\n",
      "2\n",
      "3\n",
      "5\n",
      "8\n",
      "13\n",
      "21\n",
      "34\n",
      "55\n",
      "89\n",
      "144\n"
     ]
    }
   ],
   "source": [
    "a=0\n",
    "b=1\n",
    "c=0\n",
    "while a<150:\n",
    "    print(a)\n",
    "    c=a+b\n",
    "    a=b\n",
    "    b=c"
   ]
  },
  {
   "cell_type": "markdown",
   "metadata": {},
   "source": [
    "# divisible by 7 and 5"
   ]
  },
  {
   "cell_type": "code",
   "execution_count": 5,
   "metadata": {},
   "outputs": [
    {
     "name": "stdout",
     "output_type": "stream",
     "text": [
      "1505\n",
      "1540\n",
      "1575\n",
      "1610\n",
      "1645\n",
      "1680\n",
      "1715\n",
      "1750\n",
      "1785\n",
      "1820\n",
      "1855\n",
      "1890\n",
      "1925\n",
      "1960\n",
      "1995\n",
      "2030\n",
      "2065\n",
      "2100\n",
      "2135\n",
      "2170\n",
      "2205\n",
      "2240\n",
      "2275\n",
      "2310\n",
      "2345\n",
      "2380\n",
      "2415\n",
      "2450\n",
      "2485\n",
      "2520\n",
      "2555\n",
      "2590\n",
      "2625\n",
      "2660\n",
      "2695\n"
     ]
    }
   ],
   "source": [
    "for x in range(1500,2701):\n",
    "    if x % 7 == 0 and x % 5 == 0:\n",
    "        print(x)\n",
    "        "
   ]
  },
  {
   "cell_type": "markdown",
   "metadata": {},
   "source": [
    "# celsius to fahrenheit and fahrenheit top celsius "
   ]
  },
  {
   "cell_type": "code",
   "execution_count": 26,
   "metadata": {},
   "outputs": [
    {
     "name": "stdout",
     "output_type": "stream",
     "text": [
      "Enter the temperature here:45f\n",
      "7.222222222222222C\n"
     ]
    }
   ],
   "source": [
    "temp = input(\"Enter the temperature here:\").upper().strip()\n",
    "if temp[-1]=='C':\n",
    "    temp1 = (int(temp[:-1])*(9/5) + 32) \n",
    "    print(str(temp1)+'F')\n",
    "else:\n",
    "    temp1 = (int(temp[:-1]) - 32)*(5/9)\n",
    "    print(str(temp1)+'C')\n",
    "    "
   ]
  },
  {
   "cell_type": "markdown",
   "metadata": {},
   "source": [
    "# Write a Python program to guess a number between 1 to 9\n",
    "\n"
   ]
  },
  {
   "cell_type": "code",
   "execution_count": 1,
   "metadata": {},
   "outputs": [
    {
     "name": "stdout",
     "output_type": "stream",
     "text": [
      "Guess a number: 55\n",
      "Try Again, sorry\n",
      "Guess a number: 44\n",
      "Try Again, sorry\n",
      "Guess a number: 66\n",
      "Try Again, sorry\n",
      "Guess a number: 5\n",
      "Well Guessed!\n"
     ]
    }
   ],
   "source": [
    "n = int(input(\"Guess a number: \"))\n",
    "while True:\n",
    "    if n >= 1 and n <= 10:\n",
    "        print(\"Well Guessed!\")\n",
    "        break\n",
    "    else:\n",
    "        print(\"Try Again, sorry\")\n",
    "        n = int(input(\"Guess a number: \"))\n",
    "        continue"
   ]
  },
  {
   "cell_type": "markdown",
   "metadata": {},
   "source": [
    " # Write a Python program to construct the following pattern, using a nested for loop.\n",
    "# * \n",
    "# * * \n",
    "# * * * \n",
    "# * * * * \n",
    "# * * * * * \n",
    "# * * * * \n",
    "# * * * \n",
    "# * * \n",
    "# *"
   ]
  },
  {
   "cell_type": "code",
   "execution_count": 18,
   "metadata": {},
   "outputs": [
    {
     "name": "stdout",
     "output_type": "stream",
     "text": [
      "* \n",
      "* * \n",
      "* * * \n",
      "* * * * \n",
      "* * * * * \n",
      "* * * * * \n",
      "* * * * \n",
      "* * * \n",
      "* * \n",
      "* \n"
     ]
    }
   ],
   "source": [
    "for row in range(5):\n",
    "    for column in range(row+1):\n",
    "        print(\"*\", end=\" \") \n",
    "    print()\n",
    "    \n",
    "for row in range(4,0,-1):\n",
    "    for column in range(row):\n",
    "        print(\"*\", end=\" \")\n",
    "    print()"
   ]
  },
  {
   "cell_type": "code",
   "execution_count": 20,
   "metadata": {},
   "outputs": [
    {
     "name": "stdout",
     "output_type": "stream",
     "text": [
      "\n",
      "* \n",
      "* * \n",
      "* * * \n",
      "* * * * \n",
      "* * * * * \n",
      "* * * * \n",
      "* * * \n",
      "* * \n",
      "* \n"
     ]
    }
   ],
   "source": [
    "n=5\n",
    "for i in range(n):\n",
    "    for j in range(i):\n",
    "        print ('* ', end=\"\")\n",
    "    print('')\n",
    "\n",
    "for i in range(n,0,-1):\n",
    "    for j in range(i):\n",
    "        print('* ', end=\"\")\n",
    "    print('')"
   ]
  },
  {
   "cell_type": "markdown",
   "metadata": {},
   "source": [
    "# Write a Python program that accepts a word from the user and reverse it."
   ]
  },
  {
   "cell_type": "code",
   "execution_count": 23,
   "metadata": {},
   "outputs": [
    {
     "name": "stdout",
     "output_type": "stream",
     "text": [
      "GIVE WORd/s: official tech\n",
      "\n",
      " hcet laiciffo\n"
     ]
    }
   ],
   "source": [
    "word = input(\"GIVE WORd/s: \")\n",
    "store = \"\"\n",
    "\n",
    "for w in range(len(word)-1, -1, -1):\n",
    "    store += word[w]\n",
    "\n",
    "print('\\n',store)\n",
    "    "
   ]
  },
  {
   "cell_type": "code",
   "execution_count": 25,
   "metadata": {
    "scrolled": true
   },
   "outputs": [
    {
     "name": "stdout",
     "output_type": "stream",
     "text": [
      "GIvE ANY WORD: jin chao\n",
      "oahc nij"
     ]
    }
   ],
   "source": [
    "word = input(\"GIvE ANY WORD: \").strip() # strip is used to remove exta space\n",
    "for jb in range(len(word)-1, -1, -1):\n",
    "    print(word[jb], end=\"\")"
   ]
  },
  {
   "cell_type": "markdown",
   "metadata": {},
   "source": [
    "# Write a Python program to count the number of even and odd numbers from a series of numbers."
   ]
  },
  {
   "cell_type": "code",
   "execution_count": 28,
   "metadata": {},
   "outputs": [
    {
     "name": "stdout",
     "output_type": "stream",
     "text": [
      "Number of odd numbers 5\n",
      "Number of even numbers 5\n"
     ]
    }
   ],
   "source": [
    "# li_st = [1,2,3,4,5,6,7,8,9,10]\n",
    "# use any one these list or tuple\n",
    "tu_ple = (1,2,3,4,5,6,7,8,9,10)\n",
    "\n",
    "ev_no = 0\n",
    "od_no = 0\n",
    "\n",
    "for numbers in range(len(tu_ple)):\n",
    "    if not tu_ple[numbers] % 2:\n",
    "        ev_no += 1\n",
    "    else:\n",
    "        od_no += 1\n",
    "    \n",
    "print(\"Number of odd numbers\", od_no)\n",
    "print(\"Number of even numbers\", ev_no)"
   ]
  },
  {
   "cell_type": "markdown",
   "metadata": {},
   "source": [
    "# Write a Python program that prints each item and its corresponding type from the list."
   ]
  },
  {
   "cell_type": "code",
   "execution_count": 33,
   "metadata": {},
   "outputs": [
    {
     "name": "stdout",
     "output_type": "stream",
     "text": [
      "<class 'int'> 808\n",
      "\n",
      "<class 'float'> 11.23\n",
      "\n",
      "<class 'complex'> (1+2j)\n",
      "\n",
      "<class 'bool'> True\n",
      "\n",
      "<class 'str'> official tech\n",
      "\n",
      "<class 'tuple'> (0, -1)\n",
      "\n",
      "<class 'list'> [5, 12]\n",
      "\n",
      "<class 'dict'> {'class': 'J', 'section': 'R'}\n",
      "\n"
     ]
    }
   ],
   "source": [
    "data_list = [808, 11.23, 1+2j, True, 'official tech', (0, -1), [5, 12], {\"class\":'J', \"section\":'R'}]\n",
    "\n",
    "for data in data_list:\n",
    "    print(type(data), data)\n",
    "    print()"
   ]
  },
  {
   "cell_type": "markdown",
   "metadata": {},
   "source": [
    "# Write a Python program to get the Fibonacci series between 1 to 50."
   ]
  },
  {
   "cell_type": "code",
   "execution_count": 40,
   "metadata": {},
   "outputs": [
    {
     "name": "stdout",
     "output_type": "stream",
     "text": [
      "1\n",
      "1\n",
      "2\n",
      "3\n",
      "5\n",
      "8\n",
      "13\n",
      "21\n",
      "34\n"
     ]
    }
   ],
   "source": [
    "first, second = 0, 1\n",
    "\n",
    "while second < 50:\n",
    "    first, second = second, first + second\n",
    "    print(first)"
   ]
  },
  {
   "cell_type": "markdown",
   "metadata": {},
   "source": [
    "# Write a Python program that prints all the numbers from 0 to 6 except 3 and 6."
   ]
  },
  {
   "cell_type": "code",
   "execution_count": 34,
   "metadata": {
    "scrolled": true
   },
   "outputs": [
    {
     "name": "stdout",
     "output_type": "stream",
     "text": [
      "0\n",
      "1\n",
      "2\n",
      "4\n",
      "5\n"
     ]
    }
   ],
   "source": [
    "for number in range(7):\n",
    "    if number == 3 or number == 6:\n",
    "        continue\n",
    "    print(number)"
   ]
  },
  {
   "cell_type": "markdown",
   "metadata": {},
   "source": [
    "# Write a Python program which iterates the integers from 1 to 50. For multiples of three print \"Fizz\" instead of the number and for the multiples of five print \"Buzz\". For numbers which are multiples of both three and five print \"FizzBuzz\"."
   ]
  },
  {
   "cell_type": "code",
   "execution_count": 2,
   "metadata": {},
   "outputs": [
    {
     "name": "stdout",
     "output_type": "stream",
     "text": [
      "1\n",
      "2\n",
      "Fizz\n",
      "4\n",
      "Buzz\n",
      "Fizz\n",
      "7\n",
      "8\n",
      "Fizz\n",
      "Buzz\n",
      "11\n",
      "Fizz\n",
      "13\n",
      "14\n",
      "FizzBuzz\n",
      "16\n",
      "17\n",
      "Fizz\n",
      "19\n",
      "Buzz\n",
      "Fizz\n",
      "22\n",
      "23\n",
      "Fizz\n",
      "Buzz\n",
      "26\n",
      "Fizz\n",
      "28\n",
      "29\n",
      "FizzBuzz\n",
      "31\n",
      "32\n",
      "Fizz\n",
      "34\n",
      "Buzz\n",
      "Fizz\n",
      "37\n",
      "38\n",
      "Fizz\n",
      "Buzz\n",
      "41\n",
      "Fizz\n",
      "43\n",
      "44\n",
      "FizzBuzz\n",
      "46\n",
      "47\n",
      "Fizz\n",
      "49\n",
      "Buzz\n"
     ]
    }
   ],
   "source": [
    "\n",
    "for jb in range(1,51):\n",
    "    if jb % 3 == 0 and jb % 5 == 0:\n",
    "        print(\"FizzBuzz\")\n",
    "    elif jb % 3 == 0:\n",
    "        print(\"Fizz\")\n",
    "    elif jb % 5 == 0:\n",
    "        print(\"Buzz\")\n",
    "    else:\n",
    "        print(jb)\n",
    "        "
   ]
  },
  {
   "cell_type": "markdown",
   "metadata": {},
   "source": [
    "# Write a Python program that accepts a string and calculate the number of digits and letters."
   ]
  },
  {
   "cell_type": "code",
   "execution_count": 3,
   "metadata": {},
   "outputs": [
    {
     "name": "stdout",
     "output_type": "stream",
     "text": [
      "Alpha numeric character jin chao 123\n",
      "Number of Characters is = 7\n",
      "Number of Digits is = 3\n"
     ]
    }
   ],
   "source": [
    "str_ = input(\"Alpha numeric character \")\n",
    "\n",
    "digit = 0\n",
    "alpha = 0\n",
    "for s in str_:\n",
    "    if s.isdigit():\n",
    "        digit += 1\n",
    "        \n",
    "    elif s.isalpha():\n",
    "        alpha += 1\n",
    "        \n",
    "    else:\n",
    "        pass\n",
    "\n",
    "print(\"Number of Characters is =\", alpha)\n",
    "print(\"Number of Digits is =\", digit)"
   ]
  },
  {
   "cell_type": "code",
   "execution_count": 5,
   "metadata": {},
   "outputs": [
    {
     "name": "stdout",
     "output_type": "stream",
     "text": [
      "Alpha numeric character jin chao 123\n",
      "Number of Characters is = 7\n",
      "Number of Digits is = 3\n"
     ]
    }
   ],
   "source": [
    "str_ = input(\"Alpha numeric character \")\n",
    "\n",
    "digit = 0\n",
    "alpha = 0\n",
    "for s in range(len(str_)):\n",
    "    if str_[s].isdigit():\n",
    "        digit += 1\n",
    "        \n",
    "    elif str_[s].isalpha():\n",
    "        alpha += 1\n",
    "        \n",
    "    else:\n",
    "        pass\n",
    "\n",
    "print(\"Number of Characters is =\", alpha)\n",
    "print(\"Number of Digits is =\", digit)"
   ]
  },
  {
   "cell_type": "markdown",
   "metadata": {},
   "source": [
    "# Write a Python program to find numbers between 100 and 400 (both included) where each digit of a number is an even number. The numbers obtained should be printed in a comma-separated sequence."
   ]
  },
  {
   "cell_type": "code",
   "execution_count": 46,
   "metadata": {},
   "outputs": [
    {
     "name": "stdout",
     "output_type": "stream",
     "text": [
      "100,102,104,106,108,110,112,114,116,118,120,122,124,126,128,130,132,134,136,138,140,142,144,146,148,150,152,154,156,158,160,162,164,166,168,170,172,174,176,178,180,182,184,186,188,190,192,194,196,198,200,202,204,206,208,210,212,214,216,218,220,222,224,226,228,230,232,234,236,238,240,242,244,246,248,250,252,254,256,258,260,262,264,266,268,270,272,274,276,278,280,282,284,286,288,290,292,294,296,298,300,302,304,306,308,310,312,314,316,318,320,322,324,326,328,330,332,334,336,338,340,342,344,346,348,350,352,354,356,358,360,362,364,366,368,370,372,374,376,378,380,382,384,386,388,390,392,394,396,398,400,"
     ]
    }
   ],
   "source": [
    "# according to Question it's wrong solution\n",
    "for even in range(100,401,2):\n",
    "    if even % 2 == 0:\n",
    "        print(even, end=\",\")"
   ]
  },
  {
   "cell_type": "markdown",
   "metadata": {},
   "source": [
    "# read above question again till you didn't get, according to above question above answer is wrong"
   ]
  },
  {
   "cell_type": "code",
   "execution_count": 45,
   "metadata": {
    "scrolled": true
   },
   "outputs": [
    {
     "name": "stdout",
     "output_type": "stream",
     "text": [
      "200,202,204,206,208,220,222,224,226,228,240,242,244,246,248,260,262,264,266,268,280,282,284,286,288,400\n"
     ]
    }
   ],
   "source": [
    "\n",
    "list_space = []\n",
    "for even in range(100,401,2):\n",
    "    e = str(even)\n",
    "    if (int(e[0]) % 2 == 0) and (int(e[1]) % 2 == 0) and (int(e[2]) % 2 == 0):\n",
    "        list_space.append(e)\n",
    "        \n",
    "\n",
    "print(\",\".join(list_space))"
   ]
  },
  {
   "cell_type": "code",
   "execution_count": null,
   "metadata": {},
   "outputs": [],
   "source": []
  },
  {
   "cell_type": "markdown",
   "metadata": {},
   "source": [
    "# print string having size of 3"
   ]
  },
  {
   "cell_type": "code",
   "execution_count": 26,
   "metadata": {},
   "outputs": [
    {
     "data": {
      "text/plain": [
       "['jin', 'doe']"
      ]
     },
     "execution_count": 26,
     "metadata": {},
     "output_type": "execute_result"
    }
   ],
   "source": [
    "_list = ['jb', 'jin', 'john', 'doe', 'idiot']\n",
    "\n",
    "[ x for x in _list if len(x) == 3]\n"
   ]
  },
  {
   "cell_type": "code",
   "execution_count": 27,
   "metadata": {
    "scrolled": true
   },
   "outputs": [
    {
     "name": "stdout",
     "output_type": "stream",
     "text": [
      "jin\n",
      "doe\n",
      "skn\n"
     ]
    }
   ],
   "source": [
    "_list = ['jb', 'jin', 'john', 'doe', 'skn']\n",
    "for x in _list:\n",
    "    if len(x) == 3:\n",
    "        print(x)"
   ]
  },
  {
   "cell_type": "markdown",
   "metadata": {},
   "source": [
    "# Difference between digits part-1"
   ]
  },
  {
   "cell_type": "code",
   "execution_count": 26,
   "metadata": {},
   "outputs": [
    {
     "name": "stdout",
     "output_type": "stream",
     "text": [
      "Number: 4562\n",
      "1\n",
      "1\n",
      "4\n"
     ]
    }
   ],
   "source": [
    "\n",
    "n = int(input(\"Number: \")) \n",
    "diff1 = 0\n",
    "i = []\n",
    "if n > 9:\n",
    "    while n != 0:        \n",
    "        last = n % 10    \n",
    "        n = n // 10       \n",
    "        i.append(last)\n",
    "i=i[::-1]\n",
    "for j in range(len(i)-1):\n",
    "    diff1 = i[j] - i[j+1]   \n",
    "    print(abs(diff1))"
   ]
  },
  {
   "cell_type": "markdown",
   "metadata": {},
   "source": [
    "# part-2"
   ]
  },
  {
   "cell_type": "code",
   "execution_count": 18,
   "metadata": {},
   "outputs": [
    {
     "name": "stdout",
     "output_type": "stream",
     "text": [
      "Number:658245\n",
      "1\n",
      "3\n",
      "6\n",
      "2\n",
      "1\n"
     ]
    }
   ],
   "source": [
    "n = input(\"Number:\")\n",
    "diff = 0\n",
    "for i in range(len(n)-1):\n",
    "    diff = int(n[i+1]) - int(n[i])\n",
    "    print(abs(diff))"
   ]
  },
  {
   "cell_type": "markdown",
   "metadata": {},
   "source": [
    "# part-3"
   ]
  },
  {
   "cell_type": "code",
   "execution_count": 6,
   "metadata": {},
   "outputs": [
    {
     "name": "stdout",
     "output_type": "stream",
     "text": [
      "Number: 5684\n"
     ]
    }
   ],
   "source": [
    "# n = int(input(\"Number: \"))\n",
    "# diff = 0\n",
    "# while n != 0:\n",
    "#     remender = n % 10\n",
    "#     diff = (diff * 10) + remender\n",
    "#     n //= 10\n",
    "\n",
    "# while n != 0:\n",
    "#     if n > 9:\n",
    "#         remender = n % 10\n",
    "#         n //= 10\n",
    "#         print(remender - (n % 10))\n"
   ]
  },
  {
   "cell_type": "markdown",
   "metadata": {},
   "source": [
    "#  A                                                         "
   ]
  },
  {
   "cell_type": "code",
   "execution_count": null,
   "metadata": {},
   "outputs": [],
   "source": [
    "'''\n",
    "\n",
    "  ***                                                                   \n",
    " *   *                                                                  \n",
    " *   *                                                                  \n",
    " *****                                                                  \n",
    " *   *                                                                  \n",
    " *   *                                                                  \n",
    " *   *   \n",
    "            \n",
    "'''"
   ]
  },
  {
   "cell_type": "code",
   "execution_count": 16,
   "metadata": {
    "scrolled": false
   },
   "outputs": [
    {
     "name": "stdout",
     "output_type": "stream",
     "text": [
      "  * * *   \n",
      "*       * \n",
      "*       * \n",
      "* * * * * \n",
      "*       * \n",
      "*       * \n",
      "*       * \n"
     ]
    }
   ],
   "source": [
    "for i in range(7):\n",
    "    for j in range(5):\n",
    "        if i == 0 and (j == 0 or j == 4) :\n",
    "            print(\" \",end=\" \")\n",
    "        elif i == 3:\n",
    "            print(\"*\",end=\" \")\n",
    "        elif i>0 and (j>0 and j<4):\n",
    "            print(\" \",end=\" \")\n",
    "\n",
    "        else:\n",
    "            print(\"*\",end=\" \")\n",
    "    print()"
   ]
  },
  {
   "cell_type": "code",
   "execution_count": 27,
   "metadata": {
    "scrolled": true
   },
   "outputs": [
    {
     "name": "stdout",
     "output_type": "stream",
     "text": [
      "  * * *   \n",
      "*       * \n",
      "*       * \n",
      "* * * * * \n",
      "*       * \n",
      "*       * \n",
      "*       * \n"
     ]
    }
   ],
   "source": [
    "for row in range(7):\n",
    "    for col in range(5):\n",
    "        if ((col == 0 or col == 4) and row != 0) or ((row == 0 or row == 3) and (col>0 and col<4)):\n",
    "            print(\"*\", end=\" \")\n",
    "        else:\n",
    "            print(\" \", end=\" \")\n",
    "    print()\n",
    "                                                     \n",
    "                                                     "
   ]
  },
  {
   "cell_type": "code",
   "execution_count": 32,
   "metadata": {
    "scrolled": true
   },
   "outputs": [
    {
     "name": "stdout",
     "output_type": "stream",
     "text": [
      "* * * * * \n",
      "*       * \n",
      "*       * \n",
      "* * * * * \n",
      "*       * \n",
      "*       * \n",
      "* * * * * \n"
     ]
    }
   ],
   "source": [
    "for row in range(7):\n",
    "    for column in range(5):\n",
    "        if (column == 0 or column == 4) or ((row == 0 or row == 3 or row == 6) and (column > 0 and column < 4)):\n",
    "            print(\"*\", end=\" \")\n",
    "        else:\n",
    "            print(\" \", end=\" \")\n",
    "    print()"
   ]
  },
  {
   "cell_type": "code",
   "execution_count": 35,
   "metadata": {
    "scrolled": true
   },
   "outputs": [
    {
     "name": "stdout",
     "output_type": "stream",
     "text": [
      "* * * *   \n",
      "*       * \n",
      "*       * \n",
      "* * * *   \n",
      "*       * \n",
      "*       * \n",
      "* * * *   \n"
     ]
    }
   ],
   "source": [
    "for row in range(7):\n",
    "    for column in range(5):\n",
    "        if (column == 0) or (column == 4 and (row != 0 and row != 3 and row != 6)) or ((row == 0 or row == 3 or row == 6) and (column > 0 and column < 4)):\n",
    "            print(\"*\", end=\" \")\n",
    "        else:\n",
    "            print(\" \", end=\" \")\n",
    "    print()"
   ]
  },
  {
   "cell_type": "code",
   "execution_count": 39,
   "metadata": {},
   "outputs": [
    {
     "name": "stdout",
     "output_type": "stream",
     "text": [
      "* * * * * \n",
      "*         \n",
      "*         \n",
      "*         \n",
      "*         \n",
      "*         \n",
      "* * * * * \n"
     ]
    }
   ],
   "source": [
    "# rough\n",
    "for row in range(7):\n",
    "    for column in range(5):\n",
    "        if (row == 0 or column == 0 or row == 6) or ((column > 0 and column < 4) and  (row < 1 and row > 3)):\n",
    "            print(\"*\", end=\" \")\n",
    "        else:\n",
    "            print(\" \", end=\" \")\n",
    "    print()"
   ]
  },
  {
   "cell_type": "code",
   "execution_count": 41,
   "metadata": {},
   "outputs": [
    {
     "name": "stdout",
     "output_type": "stream",
     "text": [
      "* * * * * \n",
      "*         \n",
      "*         \n",
      "*         \n",
      "*         \n",
      "*         \n",
      "* * * * * \n"
     ]
    }
   ],
   "source": [
    "\n",
    "for row in range(7):\n",
    "    for column in range(5):\n",
    "        if (column == 0) or ((row == 0 or row == 6) and column > 0) :\n",
    "            print(\"*\", end=\" \")\n",
    "        else:\n",
    "            print(\" \", end=\" \")\n",
    "    print()"
   ]
  },
  {
   "cell_type": "code",
   "execution_count": 42,
   "metadata": {},
   "outputs": [
    {
     "name": "stdout",
     "output_type": "stream",
     "text": [
      "  * * * * \n",
      "*         \n",
      "*         \n",
      "*         \n",
      "*         \n",
      "*         \n",
      "  * * * * \n"
     ]
    }
   ],
   "source": [
    "\n",
    "for row in range(7):\n",
    "    for column in range(5):\n",
    "        if (column == 0 and (row != 0 and row != 6) ) or ((row == 0 or row == 6) and column > 0) :\n",
    "            print(\"*\", end=\" \")\n",
    "        else:\n",
    "            print(\" \", end=\" \")\n",
    "    print()"
   ]
  },
  {
   "cell_type": "code",
   "execution_count": 9,
   "metadata": {},
   "outputs": [
    {
     "name": "stdout",
     "output_type": "stream",
     "text": [
      "* * * *   \n",
      "*       * \n",
      "*       * \n",
      "*       * \n",
      "*       * \n",
      "*       * \n",
      "* * * *   \n"
     ]
    }
   ],
   "source": [
    "for row in range(0,7):\n",
    "    for column in range(0,5):\n",
    "        if (column == 0) or (column == 4 and (row != 0 and row != 6)) or ((row == 0 or row == 6) and (column > 0 and column < 4)):\n",
    "            print(\"*\", end = \" \")\n",
    "        else:\n",
    "            print(\" \", end =\" \")\n",
    "    print()"
   ]
  },
  {
   "cell_type": "code",
   "execution_count": 55,
   "metadata": {},
   "outputs": [
    {
     "name": "stdout",
     "output_type": "stream",
     "text": [
      "* * * * * \n",
      "*         \n",
      "*         \n",
      "* * * * * \n",
      "*         \n",
      "*         \n",
      "* * * * * \n"
     ]
    }
   ],
   "source": [
    "for row in range(1,8):\n",
    "    for column in range(1,6):\n",
    "        if (column == 1) or ((row == 1 or row == 4 or row == 7) and (column > 1)):\n",
    "            print(\"*\", end=\" \")\n",
    "        else:\n",
    "            print(\" \", end=\" \")\n",
    "    print()"
   ]
  },
  {
   "cell_type": "code",
   "execution_count": 59,
   "metadata": {},
   "outputs": [
    {
     "name": "stdout",
     "output_type": "stream",
     "text": [
      "* * * * * \n",
      "*         \n",
      "*         \n",
      "* * * * * \n",
      "*         \n",
      "*         \n",
      "*         \n"
     ]
    }
   ],
   "source": [
    "for row in range(7):\n",
    "    for column in range(5):\n",
    "        if (column == 0) or ((row == 0 or row == 3) and (column > 0)):\n",
    "            print(\"*\", end=\" \")\n",
    "        else:\n",
    "            print(\" \", end=\" \")\n",
    "    print()"
   ]
  },
  {
   "cell_type": "code",
   "execution_count": 2,
   "metadata": {},
   "outputs": [
    {
     "name": "stdout",
     "output_type": "stream",
     "text": [
      "* * * * *   \n",
      "*           \n",
      "*           \n",
      "*     * * * \n",
      "*       *   \n",
      "*       *   \n",
      "* * * * *   \n"
     ]
    }
   ],
   "source": [
    "for r in range(7):\n",
    "    for j in range(6):\n",
    "        if j == 0 or (j == 4 and (r != 1 and r != 2)) or ((r == 0 or r == 6) and (j > 0 and j < 4)) or (r == 3 and (j == 5 or j == 3 )):\n",
    "            print(\"*\", end=\" \")\n",
    "        else:\n",
    "            print(\" \", end=\" \")\n",
    "    print()"
   ]
  },
  {
   "cell_type": "code",
   "execution_count": 18,
   "metadata": {},
   "outputs": [
    {
     "name": "stdout",
     "output_type": "stream",
     "text": [
      "  * * * *   \n",
      "*           \n",
      "*           \n",
      "*     * * * \n",
      "*       *   \n",
      "*       *   \n",
      "  * * * *   \n"
     ]
    }
   ],
   "source": [
    "for r in range(7):\n",
    "    for j in range(6):\n",
    "        if (j == 0 and (r !=0 and r != 6)) or (j == 4 and (r != 1 and r != 2)) or ((r == 0 or r == 6) and (j > 0 and j < 4)) or (r == 3 and (j == 5 or j == 3 )):\n",
    "            print(\"*\", end=\" \")\n",
    "        else:\n",
    "            print(\" \", end=\" \")\n",
    "    print()"
   ]
  },
  {
   "cell_type": "code",
   "execution_count": 19,
   "metadata": {},
   "outputs": [
    {
     "name": "stdout",
     "output_type": "stream",
     "text": [
      "  * * * *   \n",
      "*           \n",
      "*           \n",
      "*     * * * \n",
      "*       *   \n",
      "*       *   \n",
      "  * * *     \n"
     ]
    }
   ],
   "source": [
    "for r in range(7):\n",
    "    for j in range(6):\n",
    "        if (j == 0 and (r !=0 and r != 6)) or (j == 4 and (r != 1 and r != 2 and r != 6)) or ((r == 0 or r == 6) and (j > 0 and j < 4)) or (r == 3 and (j == 5 or j == 3 )):\n",
    "            print(\"*\", end=\" \")\n",
    "        else:\n",
    "            print(\" \", end=\" \")\n",
    "    print()"
   ]
  },
  {
   "cell_type": "code",
   "execution_count": 23,
   "metadata": {},
   "outputs": [
    {
     "name": "stdout",
     "output_type": "stream",
     "text": [
      "*       * \n",
      "*       * \n",
      "*       * \n",
      "* * * * * \n",
      "*       * \n",
      "*       * \n",
      "*       * \n"
     ]
    }
   ],
   "source": [
    "for r in range(7):\n",
    "    for c in range(5):\n",
    "        if (c == 0 or c == 4) or (r ==3):\n",
    "            print(\"*\", end=\" \")\n",
    "        else:\n",
    "            print(\" \", end=\" \")\n",
    "    print()"
   ]
  },
  {
   "cell_type": "code",
   "execution_count": 26,
   "metadata": {},
   "outputs": [
    {
     "name": "stdout",
     "output_type": "stream",
     "text": [
      "* * * * * \n",
      "    *     \n",
      "    *     \n",
      "    *     \n",
      "    *     \n",
      "    *     \n",
      "* * * * * \n"
     ]
    }
   ],
   "source": [
    "for ro in range(7):\n",
    "    for co in range(5):\n",
    "        if (ro == 0 or ro == 6) or (co == 2):\n",
    "            print(\"*\", end=\" \")\n",
    "        else:\n",
    "            print(\" \", end=\" \")\n",
    "    print()"
   ]
  },
  {
   "cell_type": "code",
   "execution_count": 33,
   "metadata": {},
   "outputs": [
    {
     "name": "stdout",
     "output_type": "stream",
     "text": [
      "* * * * * \n",
      "    *     \n",
      "    *     \n",
      "    *     \n",
      "    *     \n",
      "    *     \n",
      "* * *     \n"
     ]
    }
   ],
   "source": [
    "for R in range(7):\n",
    "    for C in range(5):\n",
    "        if (R == 0 and C != 2) or (C == 2) or (R == 6 and C < 3):\n",
    "            print(\"*\", end=\" \")\n",
    "        else:\n",
    "            print(\" \", end=\" \")\n",
    "    print()"
   ]
  },
  {
   "cell_type": "code",
   "execution_count": 16,
   "metadata": {},
   "outputs": [
    {
     "name": "stdout",
     "output_type": "stream",
     "text": [
      "* * * * * \n",
      "    *     \n",
      "    *     \n",
      "    *     \n",
      "    *     \n",
      "    *     \n",
      "* *       \n"
     ]
    }
   ],
   "source": [
    "for R in range(7):\n",
    "    for C in range(5):\n",
    "        if (C == 2 and R != 6) or (R == 0 and C != 2) or (R == 6 and C < 2):\n",
    "            print(\"*\", end=\" \")\n",
    "        else:\n",
    "            print(\" \", end=\" \")\n",
    "    print()"
   ]
  },
  {
   "cell_type": "code",
   "execution_count": 2,
   "metadata": {},
   "outputs": [
    {
     "name": "stdout",
     "output_type": "stream",
     "text": [
      "*       * \n",
      "*     *   \n",
      "*   *     \n",
      "* *       \n",
      "*   *     \n",
      "*     *   \n",
      "*       * \n"
     ]
    }
   ],
   "source": [
    "r = 0\n",
    "j = 4\n",
    "for Row in range(7):\n",
    "    for Column in range(5):\n",
    "        if Column == 0 or ((Row == Column + 2) and Column > 1) :\n",
    "            print(\"*\",end = \" \")\n",
    "        elif (Row == r and  Column == j) and Column > 0 :\n",
    "            print(\"*\", end = \" \")\n",
    "            r += 1\n",
    "            j -= 1\n",
    "        \n",
    "        else:\n",
    "            print(\" \", end = \" \")\n",
    "    print()"
   ]
  },
  {
   "cell_type": "code",
   "execution_count": 3,
   "metadata": {},
   "outputs": [
    {
     "name": "stdout",
     "output_type": "stream",
     "text": [
      "*         \n",
      "*         \n",
      "*         \n",
      "*         \n",
      "*         \n",
      "*         \n",
      "* * * * * \n"
     ]
    }
   ],
   "source": [
    "for rr in range(7):\n",
    "    for cc in range(5):\n",
    "        if cc == 0 or (rr == 6 and cc > 0):\n",
    "            print(\"*\", end = \" \")\n",
    "        else:\n",
    "            print(\" \", end = \" \")\n",
    "    print()"
   ]
  },
  {
   "cell_type": "code",
   "execution_count": 8,
   "metadata": {},
   "outputs": [
    {
     "name": "stdout",
     "output_type": "stream",
     "text": [
      "*           * \n",
      "* *       * * \n",
      "*   *   *   * \n",
      "*     *     * \n",
      "*           * \n",
      "*           * \n",
      "*           * \n"
     ]
    }
   ],
   "source": [
    "for mr in range(7):\n",
    "    for mc in range(7):\n",
    "        if (mc == 0 or mc == 6) or (mr == mc and (mc > 0 and mc < 4)) or (mr == 1 and mc == 5) or (mr == 2 and mc == 4):\n",
    "            print(\"*\", end = \" \")\n",
    "        else:\n",
    "            print(\" \", end = \" \")\n",
    "    print()\n",
    "        "
   ]
  },
  {
   "cell_type": "code",
   "execution_count": 11,
   "metadata": {},
   "outputs": [
    {
     "name": "stdout",
     "output_type": "stream",
     "text": [
      "*         * \n",
      "* *       * \n",
      "*   *     * \n",
      "*     *   * \n",
      "*       * * \n",
      "*         * \n"
     ]
    }
   ],
   "source": [
    "for nr in range(6):\n",
    "    for nc in range(6):\n",
    "        if nc == 0 or nc == 5 or ((nr == nc) and (nc > 0 and nc < 5)):\n",
    "            print(\"*\", end = \" \")\n",
    "        else:\n",
    "            print(\" \", end = \" \")\n",
    "    print()"
   ]
  },
  {
   "cell_type": "code",
   "execution_count": 14,
   "metadata": {
    "scrolled": true
   },
   "outputs": [
    {
     "name": "stdout",
     "output_type": "stream",
     "text": [
      "* * * * * \n",
      "*       * \n",
      "*       * \n",
      "*       * \n",
      "*       * \n",
      "*       * \n",
      "* * * * * \n"
     ]
    }
   ],
   "source": [
    "for R in range(7):\n",
    "    for C in range(5):\n",
    "        if C == 0 or C == 4 or ((R == 0 or R == 6) and (C > 0 and C < 4)) :\n",
    "            print(\"*\", end = \" \")\n",
    "        else:\n",
    "            print(\" \", end = \" \")\n",
    "    print()"
   ]
  },
  {
   "cell_type": "code",
   "execution_count": 19,
   "metadata": {},
   "outputs": [
    {
     "name": "stdout",
     "output_type": "stream",
     "text": [
      "  * * *   \n",
      "*       * \n",
      "*       * \n",
      "*       * \n",
      "*       * \n",
      "*       * \n",
      "  * * *   \n"
     ]
    }
   ],
   "source": [
    "for Ro in range(7):\n",
    "    for Co in range(5):\n",
    "        if ((Co == 0 or Co == 4) and (Ro != 0 and Ro != 6)) or ((Ro == 0 or Ro == 6) and (Co > 0 and Co < 4)) :\n",
    "            print(\"*\", end = \" \")\n",
    "        else:\n",
    "            print(\" \", end = \" \")\n",
    "    print()"
   ]
  },
  {
   "cell_type": "code",
   "execution_count": 22,
   "metadata": {},
   "outputs": [
    {
     "name": "stdout",
     "output_type": "stream",
     "text": [
      "* * * * * \n",
      "*       * \n",
      "*       * \n",
      "* * * * * \n",
      "*         \n",
      "*         \n",
      "*         \n"
     ]
    }
   ],
   "source": [
    "for rp in range(7):\n",
    "    for cp in range(5):\n",
    "        if cp == 0 or ((rp == 0 or rp == 3) and (cp > 0 and cp < 4)) or ((cp == 4) and rp < 4) :\n",
    "            print(\"*\", end = \" \")\n",
    "        else:\n",
    "            print(\" \", end  = \" \")\n",
    "    print()"
   ]
  },
  {
   "cell_type": "code",
   "execution_count": 20,
   "metadata": {},
   "outputs": [
    {
     "name": "stdout",
     "output_type": "stream",
     "text": [
      "* * * *   \n",
      "*       * \n",
      "*       * \n",
      "* * * *   \n",
      "*         \n",
      "*         \n",
      "*         \n"
     ]
    }
   ],
   "source": [
    "for rp in range(7):\n",
    "    for cp in range(5):\n",
    "        if cp == 0 or ((rp == 0 or rp == 3) and (cp > 0 and cp < 4)) or ((cp == 4) and (rp > 0 and rp < 3)) :\n",
    "            print(\"*\", end = \" \")\n",
    "        else:\n",
    "            print(\" \", end  = \" \")\n",
    "    print()"
   ]
  },
  {
   "cell_type": "code",
   "execution_count": null,
   "metadata": {},
   "outputs": [],
   "source": []
  },
  {
   "cell_type": "code",
   "execution_count": 6,
   "metadata": {},
   "outputs": [
    {
     "name": "stdout",
     "output_type": "stream",
     "text": [
      "  * * *   \n",
      "*       * \n",
      "*       * \n",
      "*       * \n",
      "*       * \n",
      "* *     * \n",
      "  * * *   \n",
      "      *   \n"
     ]
    }
   ],
   "source": [
    "for  row in range(8):\n",
    "    for column in range(5):\n",
    "        if ((column == 0 or column == 4) and (row > 0 and row < 6)) or ((row == 0 or row == 6) and (column > 0 and column < 4)) or (row == 5 and column == 1) or (row ==7 and column == 3):\n",
    "            print(\"*\", end=\" \")\n",
    "        else:\n",
    "            print(\" \", end=\" \")\n",
    "    print()"
   ]
  },
  {
   "cell_type": "code",
   "execution_count": 13,
   "metadata": {},
   "outputs": [
    {
     "name": "stdout",
     "output_type": "stream",
     "text": [
      "* * * *   \n",
      "*       * \n",
      "*       * \n",
      "* * * *   \n",
      "*       * \n",
      "*       * \n",
      "*       * \n"
     ]
    }
   ],
   "source": [
    "for row in range(7):\n",
    "    for col in range(5):\n",
    "        \n",
    "        if col == 0 or (col == 4 and (row != 0 and row != 3)) or ((row == 0 or row == 3) and (col > 0 and col < 4)):\n",
    "            print(\"*\", end=\" \")\n",
    "        else:\n",
    "            print(\" \", end=\" \")\n",
    "    print()\n",
    "                    "
   ]
  },
  {
   "cell_type": "markdown",
   "metadata": {},
   "source": []
  },
  {
   "cell_type": "code",
   "execution_count": 22,
   "metadata": {},
   "outputs": [
    {
     "name": "stdout",
     "output_type": "stream",
     "text": [
      "  * * *   \n",
      "*         \n",
      "*         \n",
      "  * * *   \n",
      "        * \n",
      "        * \n",
      "  * * *   \n"
     ]
    }
   ],
   "source": [
    "for r in range(7):\n",
    "    for c in range(5):\n",
    "        if ((r == 0 or r == 3 or r == 6) and (c > 0 and c < 4)) or (c == 0 and (r > 0 and r < 3)) or (c == 4 and (r > 3 and r < 6)):\n",
    "            print(\"*\", end=\" \")\n",
    "        else:\n",
    "            print(\" \", end=\" \")\n",
    "    print()"
   ]
  },
  {
   "cell_type": "markdown",
   "metadata": {},
   "source": [
    "# By mistake 8"
   ]
  },
  {
   "cell_type": "code",
   "execution_count": 21,
   "metadata": {},
   "outputs": [
    {
     "name": "stdout",
     "output_type": "stream",
     "text": [
      "  * * *   \n",
      "*       * \n",
      "*       * \n",
      "  * * *   \n",
      "*       * \n",
      "*       * \n",
      "  * * *   \n"
     ]
    }
   ],
   "source": [
    "for r in range(7):\n",
    "    for c in range(5):\n",
    "        if ((c == 0 or c == 4) and (r != 0 and r != 3 and r != 6)) or ((r == 0 or r == 3 or r == 6) and (c > 0 and c < 4)):\n",
    "            print(\"*\", end=\" \")\n",
    "        else:\n",
    "            print(\" \", end=\" \")\n",
    "    print()"
   ]
  },
  {
   "cell_type": "code",
   "execution_count": 25,
   "metadata": {},
   "outputs": [
    {
     "name": "stdout",
     "output_type": "stream",
     "text": [
      "* * * * * \n",
      "    *     \n",
      "    *     \n",
      "    *     \n",
      "    *     \n",
      "    *     \n",
      "    *     \n"
     ]
    }
   ],
   "source": [
    "for _row in range(7):\n",
    "    for _col in range(5):\n",
    "        if (_row == 0 or (_col == 2 and _row != 0)):\n",
    "            print(\"*\", end=\" \")\n",
    "        else:\n",
    "            print(\" \", end=\" \")\n",
    "    print()"
   ]
  },
  {
   "cell_type": "code",
   "execution_count": 27,
   "metadata": {},
   "outputs": [
    {
     "name": "stdout",
     "output_type": "stream",
     "text": [
      "*       * \n",
      "*       * \n",
      "*       * \n",
      "*       * \n",
      "*       * \n",
      "*       * \n",
      "  * * *   \n"
     ]
    }
   ],
   "source": [
    "for _r_ in range(7):\n",
    "    for _c_ in range(5):\n",
    "        if ((_c_ == 0 or _c_ == 4) and (_r_ != 6)) or  (_r_ == 6 and (_c_ > 0 and _c_ < 4)):\n",
    "            print(\"*\", end=\" \")\n",
    "        else:\n",
    "            print(\" \", end=\" \")\n",
    "    print()"
   ]
  },
  {
   "cell_type": "code",
   "execution_count": 48,
   "metadata": {},
   "outputs": [
    {
     "name": "stdout",
     "output_type": "stream",
     "text": [
      "*               * \n",
      "  *           *   \n",
      "    *       *     \n",
      "      *   *       \n",
      "        *         \n"
     ]
    }
   ],
   "source": [
    "for rrr in range(5):\n",
    "    for ccc in range(9):\n",
    "        if (rrr == ccc and ccc < 5) or (rrr + ccc == 8):\n",
    "            print(\"*\", end=\" \")\n",
    "        else:\n",
    "            print(\" \", end=\" \")\n",
    "    print()"
   ]
  },
  {
   "cell_type": "code",
   "execution_count": 6,
   "metadata": {},
   "outputs": [
    {
     "name": "stdout",
     "output_type": "stream",
     "text": [
      "*     *     * \n",
      "*   *   *   * \n",
      "* *       * * \n",
      "*           * \n"
     ]
    }
   ],
   "source": [
    "for row in range(4): \n",
    "    for col in range(7): \n",
    "        if col == 0 or col == 6 or row + col == 3 or( col == 4 and row == 1) or  (col == 5 and row == 2): # True\n",
    "            print(\"*\", end=\" \") #\n",
    "        else:\n",
    "            print(\" \", end=\" \")\n",
    "    print()"
   ]
  },
  {
   "cell_type": "code",
   "execution_count": 9,
   "metadata": {},
   "outputs": [
    {
     "name": "stdout",
     "output_type": "stream",
     "text": [
      "*     *     * \n",
      "*   *   *   * \n",
      "* *       * * \n",
      "*           * \n"
     ]
    }
   ],
   "source": [
    "ir = 0\n",
    "jc = 3\n",
    "for row in range(4): \n",
    "    for col in range(7): \n",
    "        if col == 0 or col == 6 or( col == 4 and row == 1) or  (col == 5 and row == 2): # True\n",
    "            print(\"*\", end=\" \") #\n",
    "        elif row == ir and col == jc:\n",
    "            print(\"*\", end=\" \")\n",
    "            ir += 1\n",
    "            jc -= 1\n",
    "        else:\n",
    "            print(\" \", end=\" \")\n",
    "    print()"
   ]
  },
  {
   "cell_type": "code",
   "execution_count": null,
   "metadata": {},
   "outputs": [],
   "source": []
  },
  {
   "cell_type": "code",
   "execution_count": 32,
   "metadata": {},
   "outputs": [
    {
     "name": "stdout",
     "output_type": "stream",
     "text": [
      "*           * \n",
      "  *       *   \n",
      "    *   *     \n",
      "      *       \n",
      "    *   *     \n",
      "  *       *   \n",
      "*           * \n"
     ]
    }
   ],
   "source": [
    "for rrr in range(7):\n",
    "    for ccc in range(7):\n",
    "        if (rrr == ccc and ccc < 7) or (rrr + ccc == 6):\n",
    "            print(\"*\", end=\" \")\n",
    "        else:\n",
    "            print(\" \", end=\" \")\n",
    "    print()"
   ]
  },
  {
   "cell_type": "code",
   "execution_count": 11,
   "metadata": {},
   "outputs": [
    {
     "name": "stdout",
     "output_type": "stream",
     "text": [
      "*       * \n",
      "  *   *   \n",
      "    *     \n",
      "  *   *   \n",
      "*       * \n"
     ]
    }
   ],
   "source": [
    "a = 0\n",
    "b = 4\n",
    "for rrr in range(5):\n",
    "    for ccc in range(5):\n",
    "        if (rrr == a and  ccc == b):\n",
    "            print(\"*\", end=\" \")\n",
    "            a += 1\n",
    "            b -= 1\n",
    "        elif rrr == ccc:\n",
    "            print(\"*\", end = \" \")\n",
    "        else:\n",
    "            print(\" \", end=\" \")\n",
    "    print()"
   ]
  },
  {
   "cell_type": "code",
   "execution_count": 17,
   "metadata": {},
   "outputs": [
    {
     "name": "stdout",
     "output_type": "stream",
     "text": [
      "*       * \n",
      "  *   *   \n",
      "    *     \n",
      "    *     \n",
      "    *     \n"
     ]
    }
   ],
   "source": [
    "for yr in range(5):\n",
    "    for yc in range(5):\n",
    "        if (yc == 2 and yr > 1) or (yr == yc and yc < 2) or (yr == 0 and yc == 4) or (yr == 1 and yc == 3):\n",
    "            print(\"*\", end=\" \")\n",
    "        else:\n",
    "            print(\" \", end=\" \")\n",
    "    print()"
   ]
  },
  {
   "cell_type": "markdown",
   "metadata": {},
   "source": [
    "# Z"
   ]
  },
  {
   "cell_type": "code",
   "execution_count": null,
   "metadata": {},
   "outputs": [],
   "source": [
    "'''\n",
    "\n",
    "*******\n",
    "     * \n",
    "    *  \n",
    "   *   \n",
    "  *    \n",
    " *     \n",
    "*******\n",
    "\n",
    "'''"
   ]
  },
  {
   "cell_type": "code",
   "execution_count": 61,
   "metadata": {},
   "outputs": [
    {
     "name": "stdout",
     "output_type": "stream",
     "text": [
      "*********\n",
      "        *\n",
      "       * \n",
      "      *  \n",
      "     *   \n",
      "    *    \n",
      "   *     \n",
      "  *      \n",
      "*********\n"
     ]
    }
   ],
   "source": [
    "def _z(n):\n",
    "    i = 1\n",
    "    j = n\n",
    "    for row in range(n+1):\n",
    "        for column in range(n+1):\n",
    "            if row == 0 or row == n:\n",
    "                print(\"*\", end=\"\")\n",
    "            elif row == i and column == j:\n",
    "                print(\"*\", end=\"\")\n",
    "                i += 1\n",
    "                j -= 1\n",
    "            else:\n",
    "                print(\" \",end=\"\")\n",
    "        print()\n",
    "_z(8)       "
   ]
  },
  {
   "cell_type": "code",
   "execution_count": 56,
   "metadata": {},
   "outputs": [
    {
     "name": "stdout",
     "output_type": "stream",
     "text": [
      "*******\n",
      "     * \n",
      "    *  \n",
      "   *   \n",
      "  *    \n",
      " *     \n",
      "*******\n"
     ]
    }
   ],
   "source": [
    "i = 1\n",
    "j = 5\n",
    "for row in range(7):\n",
    "    for column in range(7):\n",
    "        if row == 0 or row == 6:\n",
    "            print(\"*\", end=\"\")\n",
    "        elif row == i and column == j:\n",
    "            print(\"*\", end=\"\")\n",
    "            i += 1\n",
    "            j -= 1\n",
    "        else:\n",
    "            print(end=\" \")\n",
    "    print()"
   ]
  },
  {
   "cell_type": "code",
   "execution_count": null,
   "metadata": {},
   "outputs": [],
   "source": []
  },
  {
   "cell_type": "code",
   "execution_count": 24,
   "metadata": {},
   "outputs": [
    {
     "name": "stdout",
     "output_type": "stream",
     "text": [
      "24 x 1 = 24\n",
      "24 x 2 = 48\n",
      "24 x 3 = 72\n",
      "24 x 4 = 96\n",
      "24 x 5 = 120\n",
      "24 x 6 = 144\n",
      "24 x 7 = 168\n",
      "24 x 8 = 192\n",
      "24 x 9 = 216\n",
      "24 x 10 = 240\n",
      "-----------------\n",
      "50 x 1 = 50\n",
      "50 x 2 = 100\n",
      "50 x 3 = 150\n",
      "50 x 4 = 200\n",
      "50 x 5 = 250\n",
      "50 x 6 = 300\n",
      "50 x 7 = 350\n",
      "50 x 8 = 400\n",
      "50 x 9 = 450\n",
      "50 x 10 = 500\n",
      "-----------------\n",
      "29 x 1 = 29\n",
      "29 x 2 = 58\n",
      "29 x 3 = 87\n",
      "29 x 4 = 116\n",
      "29 x 5 = 145\n",
      "29 x 6 = 174\n",
      "29 x 7 = 203\n",
      "29 x 8 = 232\n",
      "29 x 9 = 261\n",
      "29 x 10 = 290\n"
     ]
    }
   ],
   "source": [
    "no = 24\n",
    "for x in range(1,11):\n",
    "    print(no, \"x\", x, \"=\", no * x)\n",
    "print(\"-----------------\")\n",
    "no = 50\n",
    "for x in range(1,11):\n",
    "    print(no, \"x\", x, \"=\", no * x)\n",
    "print(\"-----------------\")\n",
    "no = 29\n",
    "for x in range(1,11):\n",
    "    print(no, \"x\", x, \"=\", no * x)\n"
   ]
  },
  {
   "cell_type": "markdown",
   "metadata": {},
   "source": [
    "# Print A  -  Z (a - z)"
   ]
  },
  {
   "cell_type": "code",
   "execution_count": 9,
   "metadata": {},
   "outputs": [
    {
     "name": "stdout",
     "output_type": "stream",
     "text": [
      "A B C D E F G H I J K L M N O P Q R S T U V W X Y Z "
     ]
    }
   ],
   "source": [
    "for x in range(65, 91):\n",
    "    print(chr(x), end=\" \")"
   ]
  },
  {
   "cell_type": "code",
   "execution_count": 13,
   "metadata": {},
   "outputs": [
    {
     "name": "stdout",
     "output_type": "stream",
     "text": [
      "a b c d e f g h i j k l m n o p q r s t u v w x y z "
     ]
    }
   ],
   "source": [
    "for x in range(97, 123):\n",
    "    print(chr(x), end=\" \")"
   ]
  },
  {
   "cell_type": "code",
   "execution_count": null,
   "metadata": {},
   "outputs": [],
   "source": []
  },
  {
   "cell_type": "code",
   "execution_count": 73,
   "metadata": {},
   "outputs": [
    {
     "name": "stdout",
     "output_type": "stream",
     "text": [
      "Number of rows: 6\n",
      "* \n",
      "* * * \n",
      "* * * * * \n",
      "* * * * * * * \n",
      "* * * * * * * * * \n",
      "* * * * * * * * * * * \n"
     ]
    }
   ],
   "source": [
    "r = int(input(\"Number of rows: \"))\n",
    "j = 1\n",
    "for row in range(1,r+1):\n",
    "    for column in range(1,j+1):\n",
    "        print(\"*\", end = \" \")\n",
    "    j += 2\n",
    "    print()"
   ]
  },
  {
   "cell_type": "code",
   "execution_count": null,
   "metadata": {},
   "outputs": [],
   "source": []
  },
  {
   "cell_type": "code",
   "execution_count": 102,
   "metadata": {},
   "outputs": [
    {
     "name": "stdout",
     "output_type": "stream",
     "text": [
      "Number of rows: 9\n",
      "x x x x x x x x x \n",
      "  x x x x x x x x x \n",
      "    x x x x x x x x x \n",
      "      x x x x x x x x x \n",
      "        x x x x x x x x x \n",
      "          x x x x x x x x x \n",
      "            x x x x x x x x x \n",
      "              x x x x x x x x x \n",
      "                x x x x x x x x x \n"
     ]
    }
   ],
   "source": [
    "n = int(input(\"Number of rows: \"))\n",
    "\n",
    "for rows in range(n, 0, -1):\n",
    "    for column in range(n-rows):\n",
    "        print(\" \", end=\" \")\n",
    "    for column in range(n):\n",
    "        print(\"x\", end=\" \")\n",
    "\n",
    "    print()"
   ]
  },
  {
   "cell_type": "code",
   "execution_count": 7,
   "metadata": {},
   "outputs": [
    {
     "name": "stdout",
     "output_type": "stream",
     "text": [
      "NUMBER OF ROWS: 10\n",
      "*  *  *  *  *  *  *  *  *  *  \n",
      " *  *  *  *  *  *  *  *  *  \n",
      "  *  *  *  *  *  *  *  *  \n",
      "   *  *  *  *  *  *  *  \n",
      "    *  *  *  *  *  *  \n",
      "     *  *  *  *  *  \n",
      "      *  *  *  *  \n",
      "       *  *  *  \n",
      "        *  *  \n",
      "         *  \n"
     ]
    }
   ],
   "source": [
    "n = int(input(\"NUMBER OF ROWS: \"))\n",
    "for row in range(n, 0, -1):\n",
    "    for column in range(0,n-row):\n",
    "        print(\"\", end=\" \")\n",
    "    for column in range(row):\n",
    "        print(\"* \", end=\" \")\n",
    "    print()"
   ]
  },
  {
   "cell_type": "code",
   "execution_count": 8,
   "metadata": {
    "scrolled": true
   },
   "outputs": [
    {
     "name": "stdout",
     "output_type": "stream",
     "text": [
      "NUMBER OF ROWS: 10\n",
      "*  *  *  *  *  *  *  *  *  *  \n",
      "*  *  *  *  *  *  *  *  *  \n",
      "*  *  *  *  *  *  *  *  \n",
      "*  *  *  *  *  *  *  \n",
      "*  *  *  *  *  *  \n",
      "*  *  *  *  *  \n",
      "*  *  *  *  \n",
      "*  *  *  \n",
      "*  *  \n",
      "*  \n"
     ]
    }
   ],
   "source": [
    "n = int(input(\"NUMBER OF ROWS: \"))\n",
    "for row in range(n, 0, -1):\n",
    "\n",
    "    for column in range(row):\n",
    "        print(\"* \", end=\" \")\n",
    "    print()"
   ]
  },
  {
   "cell_type": "markdown",
   "metadata": {},
   "source": []
  },
  {
   "cell_type": "code",
   "execution_count": 12,
   "metadata": {
    "scrolled": true
   },
   "outputs": [
    {
     "name": "stdout",
     "output_type": "stream",
     "text": [
      "NUMBER OF ROWS: 10\n",
      "* * * * * * * * * * \n",
      " * * * * * * * * * \n",
      "  * * * * * * * * \n",
      "   * * * * * * * \n",
      "    * * * * * * \n",
      "     * * * * * \n",
      "      * * * * \n",
      "       * * * \n",
      "        * * \n",
      "         * \n"
     ]
    }
   ],
   "source": [
    "n = int(input(\"NUMBER OF ROWS: \")) # 4,\n",
    "\n",
    "for rows in range(n,0,-1):  #(4,0,-1),\n",
    "    for column in range(0, n - rows): # (0, 4 - 4),\n",
    "        print(end=\" \")\n",
    "    for column in range(0,rows):  # (0,4),\n",
    "        print(\"*\", end=\" \")\n",
    "    print()"
   ]
  },
  {
   "cell_type": "code",
   "execution_count": 23,
   "metadata": {
    "scrolled": true
   },
   "outputs": [
    {
     "name": "stdout",
     "output_type": "stream",
     "text": [
      "NUMBER OF ROWS: 10\n",
      "         * \n",
      "        * * \n",
      "       * * * \n",
      "      * * * * \n",
      "     * * * * * \n",
      "    * * * * * * \n",
      "   * * * * * * * \n",
      "  * * * * * * * * \n",
      " * * * * * * * * * \n",
      "* * * * * * * * * * \n",
      " * * * * * * * * * \n",
      "  * * * * * * * * \n",
      "   * * * * * * * \n",
      "    * * * * * * \n",
      "     * * * * * \n",
      "      * * * * \n",
      "       * * * \n",
      "        * * \n",
      "         * \n"
     ]
    }
   ],
   "source": [
    "n = int(input(\"NUMBER OF ROWS: \"))\n",
    "for row in range(n):\n",
    "    print(\" \"*(n-row-1) + \"* \"*(row+1))\n",
    "for column in range(n-1,0,-1):\n",
    "    print(\" \"*(n-column) + \"* \"*(column))"
   ]
  },
  {
   "cell_type": "code",
   "execution_count": 22,
   "metadata": {
    "scrolled": true
   },
   "outputs": [
    {
     "name": "stdout",
     "output_type": "stream",
     "text": [
      "NUMBER OF ROWS: 10\n",
      "         * * * * * * * * * * * \n",
      "        * * * * * * * * * * * \n",
      "       * * * * * * * * * * * \n",
      "      * * * * * * * * * * * \n",
      "     * * * * * * * * * * * \n",
      "    * * * * * * * * * * * \n",
      "   * * * * * * * * * * * \n",
      "  * * * * * * * * * * * \n",
      " * * * * * * * * * * * \n",
      "* * * * * * * * * * * \n"
     ]
    }
   ],
   "source": [
    "n = int(input(\"NUMBER OF ROWS: \"))\n",
    "for row in range(n):\n",
    "    print(\" \"*(n-row-1) + \"* \"*(n+1))"
   ]
  },
  {
   "cell_type": "code",
   "execution_count": 25,
   "metadata": {
    "scrolled": true
   },
   "outputs": [
    {
     "name": "stdout",
     "output_type": "stream",
     "text": [
      "Number of Rows: 10\n",
      "x x x x x x x x x x \n",
      "x x x x x x x x x \n",
      "x x x x x x x x \n",
      "x x x x x x x \n",
      "x x x x x x \n",
      "x x x x x \n",
      "x x x x \n",
      "x x x \n",
      "x x \n",
      "x \n"
     ]
    }
   ],
   "source": [
    "n = int(input(\"Number of Rows: \")) #5\n",
    "\n",
    "for row in range (n,0,-1): #(5,0,-1)\n",
    "    for column in range (row):\n",
    "        print(\"x\", end=\" \")\n",
    "    print()"
   ]
  },
  {
   "cell_type": "code",
   "execution_count": 23,
   "metadata": {
    "scrolled": true
   },
   "outputs": [
    {
     "name": "stdout",
     "output_type": "stream",
     "text": [
      "Enter a Word: official tech\n",
      "o \n",
      "o f \n",
      "o f f \n",
      "o f f i \n",
      "o f f i c \n",
      "o f f i c i \n",
      "o f f i c i a \n",
      "o f f i c i a l \n",
      "o f f i c i a l   \n",
      "o f f i c i a l   t \n",
      "o f f i c i a l   t e \n",
      "o f f i c i a l   t e c \n",
      "o f f i c i a l   t e c h \n"
     ]
    }
   ],
   "source": [
    "string = input(\"Enter a Word: \") # Python\n",
    "length = len(string) # 6\n",
    "\n",
    "for row in range(length): # 6\n",
    "    for col in range(row + 1): # 7\n",
    "        print(string[col], end =\" \")  # \n",
    "    print()"
   ]
  },
  {
   "cell_type": "code",
   "execution_count": 28,
   "metadata": {},
   "outputs": [
    {
     "name": "stdout",
     "output_type": "stream",
     "text": [
      "CCOCODCODE"
     ]
    }
   ],
   "source": [
    "s = \"CODE\"\n",
    "l = len(s)\n",
    "for row in range(l):\n",
    "    for col in range(row + 1):\n",
    "        print(s[col], end =\"\")"
   ]
  },
  {
   "cell_type": "code",
   "execution_count": 35,
   "metadata": {},
   "outputs": [
    {
     "name": "stdout",
     "output_type": "stream",
     "text": [
      "Rows: 9\n",
      "0    \n",
      "0    1    \n",
      "0    1    2    \n",
      "0    1    2    3    \n",
      "0    1    2    3    4    \n",
      "0    1    2    3    4    5    \n",
      "0    1    2    3    4    5    6    \n",
      "0    1    2    3    4    5    6    7    \n",
      "0    1    2    3    4    5    6    7    8    \n"
     ]
    }
   ],
   "source": [
    "r = int(input(\"Rows: \"))\n",
    "\n",
    "for row in range(r):\n",
    "    for col in range(row+1):\n",
    "        print(format(col, \"<2\"), end=\" \")\n",
    "    print()"
   ]
  },
  {
   "cell_type": "code",
   "execution_count": 50,
   "metadata": {},
   "outputs": [
    {
     "name": "stdout",
     "output_type": "stream",
     "text": [
      "ROW: 17\n",
      "                * \n",
      "               * * \n",
      "              * * * \n",
      "             * * * * \n",
      "            * * * * * \n",
      "           * * * * * * \n",
      "          * * * * * * * \n",
      "         * * * * * * * * \n",
      "        * * * * * * * * * \n",
      "       * * * * * * * * * * \n",
      "      * * * * * * * * * * * \n",
      "     * * * * * * * * * * * * \n",
      "    * * * * * * * * * * * * * \n",
      "   * * * * * * * * * * * * * * \n",
      "  * * * * * * * * * * * * * * * \n",
      " * * * * * * * * * * * * * * * * \n",
      "* * * * * * * * * * * * * * * * * \n"
     ]
    }
   ],
   "source": [
    "rr = int(input(\"ROW: \"))\n",
    "\n",
    "for row in range(rr):\n",
    "    print(\" \"*(rr - row - 1) + \"* \"*(row + 1))"
   ]
  },
  {
   "cell_type": "code",
   "execution_count": 55,
   "metadata": {},
   "outputs": [
    {
     "name": "stdout",
     "output_type": "stream",
     "text": [
      "                * \n",
      "               * * \n",
      "              * * * \n",
      "             * * * * \n",
      "            * * * * * \n",
      "           * * * * * * \n",
      "          * * * * * * * \n",
      "         * * * * * * * * \n",
      "        * * * * * * * * * \n",
      "       * * * * * * * * * * \n",
      "      * * * * * * * * * * * \n",
      "     * * * * * * * * * * * * \n",
      "    * * * * * * * * * * * * * \n",
      "   * * * * * * * * * * * * * * \n",
      "  * * * * * * * * * * * * * * * \n",
      " * * * * * * * * * * * * * * * * \n",
      "* * * * * * * * * * * * * * * * * \n",
      "* * * * * * * * * * * * * * * * *                  \n",
      "* * * * * * * * * * * * * * * *                 \n",
      "* * * * * * * * * * * * * * *                \n",
      "* * * * * * * * * * * * * *               \n",
      "* * * * * * * * * * * * *              \n",
      "* * * * * * * * * * * *             \n",
      "* * * * * * * * * * *            \n",
      "* * * * * * * * * *           \n",
      "* * * * * * * * *          \n",
      "* * * * * * * *         \n",
      "* * * * * * *        \n",
      "* * * * * *       \n",
      "* * * * *      \n",
      "* * * *     \n",
      "* * *    \n",
      "* *   \n",
      "*  \n"
     ]
    }
   ],
   "source": [
    "for row in range(rr):\n",
    "    print(\" \"*(rr - row - 1) + \"* \"*(row + 1))\n",
    "for col in range(rr, 0, -1):\n",
    "    print(\"* \"*col + \" \"*col)"
   ]
  }
 ],
 "metadata": {
  "kernelspec": {
   "display_name": "Python 3",
   "language": "python",
   "name": "python3"
  },
  "language_info": {
   "codemirror_mode": {
    "name": "ipython",
    "version": 3
   },
   "file_extension": ".py",
   "mimetype": "text/x-python",
   "name": "python",
   "nbconvert_exporter": "python",
   "pygments_lexer": "ipython3",
   "version": "3.7.1"
  }
 },
 "nbformat": 4,
 "nbformat_minor": 2
}
