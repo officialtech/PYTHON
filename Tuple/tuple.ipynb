{
 "cells": [
  {
   "cell_type": "markdown",
   "metadata": {},
   "source": [
    "## tuple"
   ]
  },
  {
   "cell_type": "markdown",
   "metadata": {},
   "source": [
    "tuple is a collection of homogenous and hetrogenous objects.\n",
    "\n",
    "tuple is immutable. You cannot change elements of a tuple once it is assigned.\n",
    "\n",
    "There are only 2 tuple methods that tuple objects can call: count and index."
   ]
  },
  {
   "cell_type": "code",
   "execution_count": 4,
   "metadata": {},
   "outputs": [
    {
     "name": "stdout",
     "output_type": "stream",
     "text": [
      "()\n",
      "<class 'tuple'>\n",
      "2038958194760\n"
     ]
    }
   ],
   "source": [
    "t = ()\n",
    "print(t)\n",
    "print(type(t))\n",
    "print(id(t))"
   ]
  },
  {
   "cell_type": "code",
   "execution_count": 9,
   "metadata": {},
   "outputs": [
    {
     "name": "stdout",
     "output_type": "stream",
     "text": [
      "(80, 90, 10, 12, 14)\n",
      "14\n",
      "80\n",
      "10\n"
     ]
    }
   ],
   "source": [
    "t1 = (80, 90, 10, 12, 14)\n",
    "print(t1)\n",
    "print(t1[-1])\n",
    "print(t1[0])\n",
    "print(t1[2])"
   ]
  },
  {
   "cell_type": "markdown",
   "metadata": {},
   "source": [
    "We can not modify the tuple"
   ]
  },
  {
   "cell_type": "code",
   "execution_count": 10,
   "metadata": {},
   "outputs": [
    {
     "ename": "TypeError",
     "evalue": "'tuple' object does not support item assignment",
     "output_type": "error",
     "traceback": [
      "\u001b[1;31m---------------------------------------------------------------------------\u001b[0m",
      "\u001b[1;31mTypeError\u001b[0m                                 Traceback (most recent call last)",
      "\u001b[1;32m<ipython-input-10-340450241b87>\u001b[0m in \u001b[0;36m<module>\u001b[1;34m\u001b[0m\n\u001b[0;32m      1\u001b[0m \u001b[0mt2\u001b[0m \u001b[1;33m=\u001b[0m \u001b[1;33m(\u001b[0m\u001b[1;36m2\u001b[0m\u001b[1;33m,\u001b[0m\u001b[1;36m4\u001b[0m\u001b[1;33m,\u001b[0m\u001b[1;36m6\u001b[0m\u001b[1;33m,\u001b[0m\u001b[1;36m8\u001b[0m\u001b[1;33m,\u001b[0m\u001b[1;36m0\u001b[0m\u001b[1;33m)\u001b[0m\u001b[1;33m\u001b[0m\u001b[1;33m\u001b[0m\u001b[0m\n\u001b[1;32m----> 2\u001b[1;33m \u001b[0mt\u001b[0m\u001b[1;33m[\u001b[0m\u001b[1;33m-\u001b[0m\u001b[1;36m1\u001b[0m\u001b[1;33m]\u001b[0m \u001b[1;33m=\u001b[0m \u001b[1;36m10\u001b[0m\u001b[1;33m\u001b[0m\u001b[1;33m\u001b[0m\u001b[0m\n\u001b[0m",
      "\u001b[1;31mTypeError\u001b[0m: 'tuple' object does not support item assignment"
     ]
    }
   ],
   "source": [
    "t2 = (2, 4, 6, 8, 0)\n",
    "t[-1] = 10"
   ]
  },
  {
   "cell_type": "code",
   "execution_count": 13,
   "metadata": {},
   "outputs": [
    {
     "name": "stdout",
     "output_type": "stream",
     "text": [
      "(2, 4, 6, 8, 0, 3, 6, 9, 12)\n",
      "t2--- (2, 4, 6, 8, 0)\n",
      "t3--- (3, 6, 9, 12)\n"
     ]
    }
   ],
   "source": [
    "t2 = (2, 4, 6, 8, 0)\n",
    "t3 = (3, 6, 9, 12)\n",
    "\n",
    "t4 = t2 + t3 # addition of tuple\n",
    "print(t4)\n",
    "print(\"t2---\", t2)\n",
    "print(\"t3---\", t3)"
   ]
  },
  {
   "cell_type": "code",
   "execution_count": 24,
   "metadata": {},
   "outputs": [
    {
     "name": "stdout",
     "output_type": "stream",
     "text": [
      "t7---> (1010, 933, 943, 956, 'pks', 'jb', 'jin', 'chao', 808, 944)\n",
      "------------------------------------------------------------------------------------------\n",
      "('jb', 'jin', 'chao', 808, 944, 'jb', 'jin', 'chao', 808, 944, 'jb', 'jin', 'chao', 808, 944)\n"
     ]
    }
   ],
   "source": [
    "t5 = (\"jb\", \"jin\", \"chao\", 808, 944)\n",
    "t6 = (1010, 933, 943, 956, \"pks\")\n",
    "t7 = (t6 + t5) # see the element, first t6 agter that t5 \n",
    "print(\"t7--->\", t7)\n",
    "\n",
    "print(\"-\"*90)\n",
    "t8 = t5 * 3\n",
    "print(t8)"
   ]
  },
  {
   "cell_type": "code",
   "execution_count": 33,
   "metadata": {
    "scrolled": true
   },
   "outputs": [
    {
     "name": "stdout",
     "output_type": "stream",
     "text": [
      "(10, 20.001, 'jin chao', 40, False, 70, None)\n",
      "0 --> 10\n",
      "all --> (10, 20.001, 'jin chao', 40, False, 70, None)\n",
      "reverse --> (None, 70, False, 40, 'jin chao', 20.001, 10)\n",
      "2 to 5 ('jin chao', 40, False, 70)\n"
     ]
    }
   ],
   "source": [
    "t9 = (10, 20.001, \"jin chao\", 40, False, 70, None)\n",
    "print(t9)\n",
    "print(\"0 -->\", t9[0])\n",
    "print(\"all -->\", t9[::])\n",
    "print(\"reverse -->\", t9[::-1])\n",
    "print(\"2 to 5\", t9[2:6]) # last element is excluded!"
   ]
  },
  {
   "cell_type": "markdown",
   "metadata": {},
   "source": [
    "# we can declare tuple without parenthesis called packing"
   ]
  },
  {
   "cell_type": "code",
   "execution_count": 52,
   "metadata": {},
   "outputs": [
    {
     "name": "stdout",
     "output_type": "stream",
     "text": [
      "(100, 0, 0)\n",
      "100 <class 'int'>\n",
      "0\n",
      "0\n"
     ]
    }
   ],
   "source": [
    "jb = 100,00,000 # packing \n",
    "print(jb)\n",
    "\n",
    "\n",
    "\n",
    "\n",
    "jin, chao, gafy = jb # unpacking\n",
    "print(jin, type(jin))\n",
    "print(chao)\n",
    "print(gafy)"
   ]
  },
  {
   "cell_type": "code",
   "execution_count": 40,
   "metadata": {
    "scrolled": true
   },
   "outputs": [
    {
     "name": "stdout",
     "output_type": "stream",
     "text": [
      "<class 'tuple'>\n",
      "('official', 'tech', 300.98, 23)\n",
      "\n",
      "sum  12345.0\n",
      "min  1\n",
      "max  11111.0\n"
     ]
    }
   ],
   "source": [
    "# using functions on tuple\n",
    "\n",
    "t10 = \"official\", \"tech\", 300.98, 23\n",
    "print(type(t10))\n",
    "print(t10)\n",
    "\n",
    "t11 = (1, 11, 111, 1111, 11111.0)\n",
    "print()\n",
    "print(\"sum \", sum(t11))\n",
    "print(\"min \", min(t11))\n",
    "print(\"max \", max(t11))"
   ]
  },
  {
   "cell_type": "code",
   "execution_count": 41,
   "metadata": {},
   "outputs": [
    {
     "name": "stdout",
     "output_type": "stream",
     "text": [
      "addition\n",
      "operator\n",
      "sum\n",
      "function\n"
     ]
    }
   ],
   "source": [
    "# for statement on tuple\n",
    "\n",
    "t12 = (\"addition\", \"operator\", \"sum\", \"function\")\n",
    "for elements in t12:\n",
    "    print(elements)"
   ]
  },
  {
   "cell_type": "code",
   "execution_count": 46,
   "metadata": {},
   "outputs": [
    {
     "name": "stdout",
     "output_type": "stream",
     "text": [
      "10\n",
      "<class 'int'>\n",
      "\n",
      "These are not a tuples ABOVE and BELOW\n",
      "\n",
      "string\n",
      "<class 'str'>\n",
      "\n",
      "To become a tuple it must be like Below: \n",
      "<class 'tuple'>\n",
      "(12,)\n",
      "-------------------------\n",
      "('string and',)\n",
      "<class 'tuple'>\n"
     ]
    }
   ],
   "source": [
    "alert = (10)\n",
    "print(alert)\n",
    "print(type(alert))\n",
    "\n",
    "print()\n",
    "print(\"These are not a tuples ABOVE and BELOW\")\n",
    "print()\n",
    "\n",
    "alert1 = (\"string\")\n",
    "print(alert1)\n",
    "print(type(alert1))\n",
    "\n",
    "print()\n",
    "print(\"To become a tuple it must be like Below: \")\n",
    "\n",
    "alert2 = (12, )\n",
    "print(type(alert2))\n",
    "print(alert2)\n",
    "\n",
    "print(\"-------------------------\")\n",
    "alert3 = (\"string and\", )\n",
    "print(alert3)\n",
    "print(type(alert3))"
   ]
  },
  {
   "cell_type": "markdown",
   "metadata": {},
   "source": [
    "# tuple class methods"
   ]
  },
  {
   "cell_type": "markdown",
   "metadata": {},
   "source": [
    "<pre>T.count(value) -> integer -- return number of occurrences of \n",
    "value\n"
   ]
  },
  {
   "cell_type": "code",
   "execution_count": 87,
   "metadata": {},
   "outputs": [
    {
     "name": "stdout",
     "output_type": "stream",
     "text": [
      "Type of given t13 tuple is <class 'tuple'>\n",
      "3\n",
      "p ki jangadna ho gyi p  2  baate.\n"
     ]
    }
   ],
   "source": [
    "\n",
    "\n",
    "t13 = 1.00, 22, 333, 4444, 55555, 22, 1, 22.0, 'a', 'p', 'p', 'l', 'e'\n",
    "print(\"Type of given t13 tuple is\", type(t13))\n",
    "\n",
    "\n",
    "c_o = t13.count(22.0) # returns count object and storing to c_o\n",
    "print(c_o)\n",
    "\n",
    "a_c = t13.count('p')\n",
    "print(\"p ki jangadna ho gyi p \", a_c, \" baate.\")"
   ]
  },
  {
   "cell_type": "markdown",
   "metadata": {},
   "source": [
    "#### T.index(value, [start, [stop]]) -> integer -- return first index of value."
   ]
  },
  {
   "cell_type": "markdown",
   "metadata": {},
   "source": []
  },
  {
   "cell_type": "code",
   "execution_count": 98,
   "metadata": {},
   "outputs": [
    {
     "name": "stdout",
     "output_type": "stream",
     "text": [
      "('mouse', 1, 1, 2, ['puppy', 'jhappi', 'gappi', 1], ('sweet', 'potato', 123.9), 'susi') <class 'tuple'>\n",
      "1\n",
      "('mouse', 1, 1, 2, ['puppy', 'jhappi', 'radius', 1], ('sweet', 'potato', 123.9), 'susi')\n",
      "('mouse', 1, 1, 2, ['puppy', 'jhappi', 1], ('sweet', 'potato', 123.9), 'susi')\n"
     ]
    }
   ],
   "source": [
    "t14 = ('mouse', 1, 1, 2, ['puppy', 'jhappi', 'gappi', 1], ('sweet', 'potato', 123.9), 'susi')\n",
    "print(t14, type(t14))\n",
    "c_ = t14.index(1) # it will find given element which occur first \n",
    "print(c_)\n",
    "\n",
    "\n",
    "\n",
    "t14[4][2] = 'radius'\n",
    "print(t14)\n",
    "\n",
    "del t14[4][2] # listen carefully, again i am reminding you, only listen can be deleted either it will inside tuple 0_0\n",
    "print(t14)\n",
    "\n",
    "# del t14[2][2] # it can't possible to delete tuple elements\n",
    "\n"
   ]
  },
  {
   "cell_type": "code",
   "execution_count": 101,
   "metadata": {},
   "outputs": [
    {
     "name": "stdout",
     "output_type": "stream",
     "text": [
      "True\n",
      "----------------------------------------------------------------\n",
      "False\n"
     ]
    }
   ],
   "source": [
    "t15 = \"water\", \"is\", \"so\", \"precious\", \"so\", \"do\", \"not\", \"waste\", \"it\"\n",
    "s = \"so\" in t15\n",
    "print(s)\n",
    "\n",
    "print(\"----------------------------------------------------------------\")\n",
    "print(\"it\" not in t15)"
   ]
  },
  {
   "cell_type": "code",
   "execution_count": 111,
   "metadata": {},
   "outputs": [
    {
     "name": "stdout",
     "output_type": "stream",
     "text": [
      "3\n"
     ]
    }
   ],
   "source": [
    "t16 = (\"A\", \"a\", \"B\", \"v\", 1.0, 1, 1.000000000009, 1)\n",
    "print(t16.count(1))"
   ]
  }
 ],
 "metadata": {
  "kernelspec": {
   "display_name": "Python 3",
   "language": "python",
   "name": "python3"
  },
  "language_info": {
   "codemirror_mode": {
    "name": "ipython",
    "version": 3
   },
   "file_extension": ".py",
   "mimetype": "text/x-python",
   "name": "python",
   "nbconvert_exporter": "python",
   "pygments_lexer": "ipython3",
   "version": "3.7.1"
  }
 },
 "nbformat": 4,
 "nbformat_minor": 2
}
