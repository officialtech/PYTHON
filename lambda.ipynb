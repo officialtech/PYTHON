{
 "cells": [
  {
   "cell_type": "markdown",
   "metadata": {},
   "source": [
    "<h1 style=\"color:blue\">Lambda function  "
   ]
  },
  {
   "cell_type": "markdown",
   "metadata": {},
   "source": [
    "<pre>1. A function which is defined without name is called lambda function.\n",
    "2. Lambda functions are also known as anonymous function.\n",
    "3. To define lambda function we use 'lambda' keyword.\n",
    "4. We can define lambda functions in four ways.\n",
    "5. We can pass any number of arguments to a lambda function.\n",
    "6. In lambda function we don't use 'return' keyword."
   ]
  },
  {
   "cell_type": "markdown",
   "metadata": {},
   "source": [
    "syntax:\n",
    "<h3 style=\"color:red\"> lambda_keyword any_no_of_arguments : only_one_expression\n",
    "    <pre>lambda arguments : expression"
   ]
  },
  {
   "cell_type": "markdown",
   "metadata": {},
   "source": [
    "<b>##################    Program with zero argument    ################################"
   ]
  },
  {
   "cell_type": "code",
   "execution_count": 4,
   "metadata": {},
   "outputs": [
    {
     "name": "stdout",
     "output_type": "stream",
     "text": [
      "lambda function without arguments.\n",
      "<class 'function'>\n",
      "<function <lambda> at 0x0000020E31EC6A60>\n"
     ]
    }
   ],
   "source": [
    "me = lambda : print(\"lambda function without arguments.\")\n",
    "me() # calling lambda function\n",
    "\n",
    "print(type(me))\n",
    "print(me)\n"
   ]
  },
  {
   "cell_type": "code",
   "execution_count": null,
   "metadata": {},
   "outputs": [],
   "source": []
  },
  {
   "cell_type": "markdown",
   "metadata": {},
   "source": [
    "<h3 style=\"background:yellow\">00 Lambda function without arguments and without return."
   ]
  },
  {
   "cell_type": "code",
   "execution_count": 6,
   "metadata": {},
   "outputs": [
    {
     "name": "stdout",
     "output_type": "stream",
     "text": [
      "First Number: 65\n",
      "Second Number: 15\n",
      "addition = 80\n"
     ]
    }
   ],
   "source": [
    "a_a = lambda : print(\"addition =\", int(input(\"First Number: \")) + int(input(\"Second Number: \")))\n",
    "a_a()"
   ]
  },
  {
   "cell_type": "code",
   "execution_count": null,
   "metadata": {},
   "outputs": [],
   "source": []
  },
  {
   "cell_type": "markdown",
   "metadata": {},
   "source": [
    "<h3 style=\"background:yellow\">10 Lambda function with arguments and without return."
   ]
  },
  {
   "cell_type": "code",
   "execution_count": 9,
   "metadata": {},
   "outputs": [
    {
     "name": "stdout",
     "output_type": "stream",
     "text": [
      "First Number -> 19\n",
      "Second Number -> 3\n",
      "Multiplication:  57.0\n"
     ]
    }
   ],
   "source": [
    "m_m = lambda r, j : print(\"Multiplication: \", r * j)\n",
    "\n",
    "n1 = float(input(\"First Number -> \"))\n",
    "n2 = float(input(\"Second Number -> \"))\n",
    "\n",
    "m_m(n1, n2) # Here, remember we only giving values not variable n1 and n2"
   ]
  },
  {
   "cell_type": "code",
   "execution_count": null,
   "metadata": {},
   "outputs": [],
   "source": []
  },
  {
   "cell_type": "markdown",
   "metadata": {},
   "source": [
    "<h3 style=\"background:yellow\">01 Lambda function without arguments and with return."
   ]
  },
  {
   "cell_type": "code",
   "execution_count": 16,
   "metadata": {
    "scrolled": true
   },
   "outputs": [
    {
     "name": "stdout",
     "output_type": "stream",
     "text": [
      "Any Number Please: 98\n",
      "Another Number: 78\n",
      "Subtraction:  20.0\n",
      "Any Number Please: 8\n",
      "Another Number: 9\n",
      "Subtraction ~  -1.0\n",
      "Any Number Please: 123\n",
      "Another Number: 23\n"
     ]
    },
    {
     "data": {
      "text/plain": [
       "100.0"
      ]
     },
     "execution_count": 16,
     "metadata": {},
     "output_type": "execute_result"
    }
   ],
   "source": [
    "s_s = lambda : float(input(\"Any Number Please: \")) - float(input(\"Another Number: \"))\n",
    "\n",
    "sub = s_s() # First way\n",
    "print(\"Subtraction: \", sub)\n",
    "\n",
    "print(\"Subtraction ~ \", s_s()) # Second way\n",
    "\n",
    "s_s() # Third way"
   ]
  },
  {
   "cell_type": "code",
   "execution_count": null,
   "metadata": {},
   "outputs": [],
   "source": []
  },
  {
   "cell_type": "markdown",
   "metadata": {},
   "source": [
    "<h3 style=\"background:yellow\">11 Lambda function with arguments and with return."
   ]
  },
  {
   "cell_type": "code",
   "execution_count": 17,
   "metadata": {},
   "outputs": [
    {
     "name": "stdout",
     "output_type": "stream",
     "text": [
      "Num One: 808\n",
      "Number Two: 944\n",
      "Division:  0.8559322033898306\n"
     ]
    }
   ],
   "source": [
    "d_d = lambda r, p : r / p\n",
    "\n",
    "n_1 = float(input(\"Num One: \"))\n",
    "n_2 = float(input(\"Number Two: \"))\n",
    "\n",
    "div = print(\"Division: \",d_d(n_1, n_2))"
   ]
  },
  {
   "cell_type": "code",
   "execution_count": null,
   "metadata": {},
   "outputs": [],
   "source": []
  },
  {
   "cell_type": "markdown",
   "metadata": {},
   "source": [
    "<h1 style=\"color:blue\"> Lambda function with Default arguments"
   ]
  },
  {
   "cell_type": "code",
   "execution_count": 26,
   "metadata": {},
   "outputs": [
    {
     "name": "stdout",
     "output_type": "stream",
     "text": [
      "M with zero argument =  762752\n",
      "M with single argument =  1444320\n",
      "M with Keyword/Named argument =  450\n",
      "M =  3520\n"
     ]
    }
   ],
   "source": [
    "m_l = lambda r = 808, j = 944 : r * j\n",
    "\n",
    "print(\"M with zero argument = \",m_l()) # calling with zero arguments\n",
    "\n",
    "print(\"M with single argument = \", m_l(1530)) # calling with one argument, r = 1530\n",
    "\n",
    "print(\"M with Keyword/Named argument = \", m_l(j = 15, r = 30)) # keyword arguments\n",
    "\n",
    "print(\"M = \", m_l(80, j = 44)) # order matters r = 80"
   ]
  },
  {
   "cell_type": "code",
   "execution_count": null,
   "metadata": {},
   "outputs": [],
   "source": []
  },
  {
   "cell_type": "markdown",
   "metadata": {},
   "source": [
    "<h1 style=\"color:blue\"> Lambda function using 'if else'"
   ]
  },
  {
   "cell_type": "code",
   "execution_count": 29,
   "metadata": {},
   "outputs": [
    {
     "name": "stdout",
     "output_type": "stream",
     "text": [
      "First N... 658\n",
      "Second N... 5695\n",
      "Oh! Big one -> 5695.0\n"
     ]
    }
   ],
   "source": [
    "# program to read two number from user/keyboard  and print big number\n",
    "\n",
    "b_n  = lambda me, me_e : me if me > me_e else me_e\n",
    "\n",
    "f_n = float(input(\"First N... \"))\n",
    "s_n = float(input(\"Second N... \"))\n",
    "\n",
    "# b_n(f_n, s_n)\n",
    "print(\"Oh! Big one ->\",b_n(f_n, s_n))"
   ]
  },
  {
   "cell_type": "code",
   "execution_count": null,
   "metadata": {},
   "outputs": [],
   "source": []
  },
  {
   "cell_type": "markdown",
   "metadata": {},
   "source": [
    "<h1 style=\"color:red\">BONUS FOR YOU! lambda function"
   ]
  },
  {
   "cell_type": "code",
   "execution_count": 31,
   "metadata": {},
   "outputs": [
    {
     "name": "stdout",
     "output_type": "stream",
     "text": [
      "Awesome officially End!\n"
     ]
    }
   ],
   "source": [
    "(lambda : print(\"Awesome officially End!\"))() # you can call it only one time"
   ]
  },
  {
   "cell_type": "code",
   "execution_count": null,
   "metadata": {},
   "outputs": [],
   "source": []
  }
 ],
 "metadata": {
  "kernelspec": {
   "display_name": "Python 3",
   "language": "python",
   "name": "python3"
  },
  "language_info": {
   "codemirror_mode": {
    "name": "ipython",
    "version": 3
   },
   "file_extension": ".py",
   "mimetype": "text/x-python",
   "name": "python",
   "nbconvert_exporter": "python",
   "pygments_lexer": "ipython3",
   "version": "3.7.1"
  }
 },
 "nbformat": 4,
 "nbformat_minor": 2
}
